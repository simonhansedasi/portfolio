{
 "cells": [
  {
   "cell_type": "code",
   "execution_count": 1,
   "id": "d3d19e20",
   "metadata": {
    "tags": []
   },
   "outputs": [],
   "source": [
    "import glacierml as gl\n",
    "import os\n",
    "import pandas as pd\n",
    "import numpy as np\n",
    "pd.set_option('display.max_column',None)\n",
    "import path_manager as pm\n",
    "[\n",
    "        home_path, data_path, RGI_path, glathida_path, \n",
    "        ref_path, coregistration_testing_path, \n",
    "        arch_test_path, LOO_path\n",
    "] = pm.set_paths()"
   ]
  },
  {
   "cell_type": "code",
   "execution_count": 2,
   "id": "2b76b6d6",
   "metadata": {
    "tags": []
   },
   "outputs": [],
   "source": [
    "RGI = gl.load_RGI(RGI_path)\n",
    "glathida = pd.read_csv(os.path.join(glathida_path, 'T.csv'))\n",
    "glathida = glathida.dropna(subset = ['MEAN_THICKNESS'])\n",
    "glathida = glathida.reset_index().drop('index',axis = 1)"
   ]
  },
  {
   "cell_type": "code",
   "execution_count": 3,
   "id": "bb43d35a",
   "metadata": {
    "tags": []
   },
   "outputs": [],
   "source": [
    "# if not os.path.exists(\n",
    "#     os.path.join(\n",
    "#         data_path, 'matched.pkl'\n",
    "# )):\n",
    "#     df = gl.match_GlaThiDa_RGI_index(\n",
    "#     RGI,glathida,verbose = True, useMP = True\n",
    "# )\n",
    "    \n",
    "#     df.to_pickle(os.path.join(data_path,'matched.pkl'))\n",
    "    \n",
    "# else:\n",
    "#     print('data already matched')"
   ]
  },
  {
   "cell_type": "code",
   "execution_count": 4,
   "id": "fb0aace9-aa0e-4653-bebf-ce78296c6b3b",
   "metadata": {
    "tags": []
   },
   "outputs": [
    {
     "name": "stderr",
     "output_type": "stream",
     "text": [
      "Processing glaciers: 100%|███████████████| 500/500 [01:13<00:00,  6.81glacier/s]\n"
     ]
    }
   ],
   "source": [
    "def get_filtered_RGI(glathida_ll, RGI, max_distance=500):\n",
    "    # Filter RGI glaciers within a rough bounding box (approximate filter to reduce computation)\n",
    "    lat, lon = glathida_ll\n",
    "    lat_min, lat_max = lat - 5, lat + 5  # Approx 5-degree latitude window\n",
    "    lon_min, lon_max = lon - 5, lon + 5  # Approx 5-degree longitude window\n",
    "    return RGI[(RGI['CenLat'] >= lat_min) & (RGI['CenLat'] <= lat_max) &\n",
    "               (RGI['CenLon'] >= lon_min) & (RGI['CenLon'] <= lon_max)]\n",
    "\n",
    "from joblib import Parallel, delayed\n",
    "from tqdm import tqdm\n",
    "import pandas as pd\n",
    "\n",
    "# Haversine function for fast distance calculation\n",
    "def haversine(lat1, lon1, lat2, lon2):\n",
    "    from math import radians, sin, cos, sqrt, atan2\n",
    "    lat1, lon1, lat2, lon2 = map(radians, [lat1, lon1, lat2, lon2])\n",
    "    dlat = lat2 - lat1\n",
    "    dlon = lon2 - lon1\n",
    "    a = sin(dlat / 2)**2 + cos(lat1) * cos(lat2) * sin(dlon / 2)**2\n",
    "    c = 2 * atan2(sqrt(a), sqrt(1 - a))\n",
    "    radius_earth_km = 6371  # Radius of the Earth in kilometers\n",
    "    return radius_earth_km * c\n",
    "\n",
    "def get_id_and_distance(RGI, glathida, i):\n",
    "    glathida_ll = (glathida.loc[i].LAT, glathida.loc[i].LON)\n",
    "\n",
    "    # Use filtered RGI to reduce computation\n",
    "    RGI_filtered = get_filtered_RGI(glathida_ll, RGI)\n",
    "\n",
    "    distances = RGI_filtered.apply(\n",
    "        lambda row: haversine(row.CenLat, row.CenLon, glathida_ll[0], glathida_ll[1]),\n",
    "        axis=1\n",
    "    )\n",
    "    centroid_distance = distances.min()\n",
    "    min_indices = np.where(distances == centroid_distance)\n",
    "\n",
    "    RGI_index = pd.Series(min_indices[0], name='RGI_indexes')\n",
    "    \n",
    "    if len(RGI_index) == 1:\n",
    "        RGI_id_match = RGI_filtered['RGIId'].iloc[RGI_index.iloc[0]]\n",
    "    else:\n",
    "        RGI_id_match = -1\n",
    "        centroid_distance = -1\n",
    "\n",
    "    return RGI_id_match, centroid_distance\n",
    "\n",
    "# Function to update glathida dataframe\n",
    "def update_glathida(RGI, glathida, i):\n",
    "    RGI_id_match, centroid_distance = get_id_and_distance(RGI, glathida, i)\n",
    "    return i, RGI_id_match, centroid_distance\n",
    "\n",
    "# Parallel processing with progress bar\n",
    "def parallel_with_progress_bar(RGI, glathida, num_workers=4):\n",
    "    with tqdm(total=len(glathida), desc=\"Processing glaciers\", unit=\"glacier\") as pbar:\n",
    "        output = Parallel(n_jobs=num_workers)(\n",
    "            delayed(update_glathida)(RGI, glathida, i) for i in glathida.index\n",
    "        )\n",
    "        \n",
    "        # Update glathida with matched RGIId and centroid distance\n",
    "        for i, RGI_id_match, centroid_distance in output:\n",
    "            glathida.at[i, 'RGIId'] = RGI_id_match\n",
    "            glathida.at[i, 'RGI Centroid Distance'] = centroid_distance\n",
    "            pbar.update(1)\n",
    "\n",
    "# Running the parallel processing with progress bar\n",
    "parallel_with_progress_bar(RGI, glathida)\n",
    "\n",
    "# Now glathida has been updated with RGIId and centroid distance\n",
    "\n"
   ]
  },
  {
   "cell_type": "code",
   "execution_count": 5,
   "id": "774fdae3-ab8c-4772-a125-872179575b75",
   "metadata": {
    "tags": []
   },
   "outputs": [],
   "source": [
    "glathida = glathida.drop(glathida[glathida['RGIId'] == -1].index)"
   ]
  },
  {
   "cell_type": "code",
   "execution_count": 7,
   "id": "c5e2aa35-5461-4390-87a8-56246ba064bb",
   "metadata": {
    "tags": []
   },
   "outputs": [],
   "source": [
    "glathida.to_pickle(os.path.join(data_path,'matched.pkl'))"
   ]
  },
  {
   "cell_type": "code",
   "execution_count": null,
   "id": "576c6ac9-a38e-4515-aaca-f5af4ada89f6",
   "metadata": {},
   "outputs": [],
   "source": []
  }
 ],
 "metadata": {
  "kernelspec": {
   "display_name": "glacierml (Python3.8.10)",
   "language": "python",
   "name": "prethicktor"
  },
  "language_info": {
   "codemirror_mode": {
    "name": "ipython",
    "version": 3
   },
   "file_extension": ".py",
   "mimetype": "text/x-python",
   "name": "python",
   "nbconvert_exporter": "python",
   "pygments_lexer": "ipython3",
   "version": "3.8.10"
  },
  "varInspector": {
   "cols": {
    "lenName": 16,
    "lenType": 16,
    "lenVar": 40
   },
   "kernels_config": {
    "python": {
     "delete_cmd_postfix": "",
     "delete_cmd_prefix": "del ",
     "library": "var_list.py",
     "varRefreshCmd": "print(var_dic_list())"
    },
    "r": {
     "delete_cmd_postfix": ") ",
     "delete_cmd_prefix": "rm(",
     "library": "var_list.r",
     "varRefreshCmd": "cat(var_dic_list()) "
    }
   },
   "types_to_exclude": [
    "module",
    "function",
    "builtin_function_or_method",
    "instance",
    "_Feature"
   ],
   "window_display": false
  }
 },
 "nbformat": 4,
 "nbformat_minor": 5
}
