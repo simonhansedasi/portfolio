{
 "cells": [
  {
   "cell_type": "code",
   "execution_count": 1,
   "id": "171a6700",
   "metadata": {},
   "outputs": [
    {
     "name": "stdout",
     "output_type": "stream",
     "text": [
      "Requirement already satisfied: Jinja2 in /home/sa42/miniconda3/envs/glacierml/lib/python3.8/site-packages (3.1.3)\r\n",
      "Requirement already satisfied: MarkupSafe>=2.0 in /home/sa42/miniconda3/envs/glacierml/lib/python3.8/site-packages (from Jinja2) (2.1.5)\r\n"
     ]
    }
   ],
   "source": [
    "import sys\n",
    "!{sys.executable} -m pip install Jinja2"
   ]
  },
  {
   "cell_type": "code",
   "execution_count": 2,
   "id": "c8520a86",
   "metadata": {
    "tags": []
   },
   "outputs": [],
   "source": [
    "import pandas as pd\n",
    "import numpy as np\n",
    "import os\n",
    "import glacierml as gl\n",
    "import matplotlib.pyplot as plt\n",
    "from tqdm import tqdm\n",
    "pd.set_option('display.max_columns',None)\n",
    "import path_manager as pm\n",
    "[\n",
    "        home_path, data_path, RGI_path, glathida_path, \n",
    "        ref_path, coregistration_testing_path, \n",
    "        arch_test_path, LOO_path\n",
    "] = pm.set_paths()"
   ]
  },
  {
   "cell_type": "code",
   "execution_count": 3,
   "id": "358922f6-49b6-47bf-83d0-575db01514ff",
   "metadata": {
    "tags": []
   },
   "outputs": [],
   "source": [
    "cols,data = gl.load_LOO_data(home_path, include_refs = True)\n",
    "\n",
    "est = pd.Series( np.round( np.mean(data[cols],axis = 1),3), name = 'est'  )\n",
    "data = pd.concat([data,est],axis = 1)\n",
    "\n",
    "\n",
    "data = pd.concat(\n",
    "    [\n",
    "        data,\n",
    "        pd.Series(np.round(data['est'] * data['Area'],6), name = 'Vol'),\n",
    "        pd.Series(np.round(data['FMT'] * data['Area'],6), name = 'FVol'),\n",
    "        pd.Series(\n",
    "            np.round((data['est'] * data['Area']) - (data['FMT'] * data['Area']),3),\n",
    "            name = 'Vol Diff' \n",
    "        ),\n",
    "        pd.Series(\n",
    "            np.round((\n",
    "                (data['est'] * data['Area']) - (data['FMT'] * data['Area'])\n",
    "            ) / (data['est'] * data['Area']) * 100,1) , name = 'Perc Diff' \n",
    "        )\n",
    "\n",
    "    ], axis = 1\n",
    ")   \n",
    "# For the purpose of reporting results in meters\n",
    "data['est'] = data['est'] * 1e3\n",
    "data['FMT'] = data['FMT'] * 1e3"
   ]
  },
  {
   "cell_type": "code",
   "execution_count": 4,
   "id": "3272dc46",
   "metadata": {
    "tags": []
   },
   "outputs": [],
   "source": [
    "def stats_builder(data,st1 = 1e-5, st2 = 1e4):\n",
    "        \n",
    "    col_list = [ 'Area', \n",
    "                'est',\n",
    "                'Vol Diff',\n",
    "                'Perc Diff'\n",
    "               ]\n",
    "    name = ['mean',\n",
    "            'median', \n",
    "            'STD',\n",
    "            'min', 'max',\n",
    "            'count'\n",
    "           ]\n",
    "\n",
    "    df = pd.DataFrame( columns = col_list, index = name)\n",
    "    \n",
    "    vol = data['Vol'].to_numpy()\n",
    "    vol_diff = data['Vol Diff'].to_numpy()\n",
    "    data = data.iloc[np.where(\n",
    "        (vol > st1) & (vol < st2)\n",
    "    )]\n",
    "    vol_sub = vol[np.where(\n",
    "        (vol > st1) & (vol < st2)\n",
    "    )]\n",
    "    feat_list = col_list\n",
    "    for i in feat_list:\n",
    "        dft = data[i]\n",
    "        if i == 'Area':\n",
    "            p = 3\n",
    "        if i == 'Vol Diff':\n",
    "            p = 1\n",
    "        if i == 'est':\n",
    "            p = 0\n",
    "        functions = [\n",
    "            np.round(np.nanmean(dft), p),\n",
    "            np.round(np.nanmedian(dft), p), \n",
    "            np.round(np.nanstd(dft),p),\n",
    "            np.round(np.nanmin(dft), p),\n",
    "            np.round(np.nanmax(dft), p),\n",
    "            len(dft)\n",
    "        ]\n",
    "        for n, fn in zip(name, functions):\n",
    "            df[i].loc[n] = fn\n",
    "    df = df.rename(columns = {\n",
    "        'Area':'Area (km$^2$)',\n",
    "        'est0':'Est Thick (m)',\n",
    "        'Vol Diff':'Vol Diff (km$^3$)'\n",
    "    })\n",
    "    df = df.round(decimals = 1)\n",
    "    return df, data, vol, vol_sub"
   ]
  },
  {
   "cell_type": "code",
   "execution_count": 5,
   "id": "8caa0b2d",
   "metadata": {
    "tags": []
   },
   "outputs": [
    {
     "name": "stdout",
     "output_type": "stream",
     "text": [
      "\\begin{tabular}{lllll}\n",
      "\\toprule\n",
      " & Area (km$^2$) & est & Vol Diff (km$^3$) & Perc Diff \\\\\n",
      "\\midrule\n",
      "mean & 3.4 & 40.0 & -0.2 & 25.6 \\\\\n",
      "median & 0.3 & 38.0 & 0.0 & 34.1 \\\\\n",
      "min & 0.0 & 7.0 & -661.6 & -750.0 \\\\\n",
      "max & 7537.6 & 893.0 & 1019.5 & 100.0 \\\\\n",
      "STD & 51.1 & 18.0 & 5.9 & 38.7 \\\\\n",
      "count & 216501 & 216501 & 216501 & 216501 \\\\\n",
      "\\bottomrule\n",
      "\\end{tabular}\n",
      "\n"
     ]
    },
    {
     "data": {
      "text/html": [
       "<div>\n",
       "<style scoped>\n",
       "    .dataframe tbody tr th:only-of-type {\n",
       "        vertical-align: middle;\n",
       "    }\n",
       "\n",
       "    .dataframe tbody tr th {\n",
       "        vertical-align: top;\n",
       "    }\n",
       "\n",
       "    .dataframe thead th {\n",
       "        text-align: right;\n",
       "    }\n",
       "</style>\n",
       "<table border=\"1\" class=\"dataframe\">\n",
       "  <thead>\n",
       "    <tr style=\"text-align: right;\">\n",
       "      <th></th>\n",
       "      <th>Area (km$^2$)</th>\n",
       "      <th>est</th>\n",
       "      <th>Vol Diff (km$^3$)</th>\n",
       "      <th>Perc Diff</th>\n",
       "    </tr>\n",
       "  </thead>\n",
       "  <tbody>\n",
       "    <tr>\n",
       "      <th>mean</th>\n",
       "      <td>3.446</td>\n",
       "      <td>40.0</td>\n",
       "      <td>-0.2</td>\n",
       "      <td>25.6</td>\n",
       "    </tr>\n",
       "    <tr>\n",
       "      <th>median</th>\n",
       "      <td>0.252</td>\n",
       "      <td>38.0</td>\n",
       "      <td>0.0</td>\n",
       "      <td>34.1</td>\n",
       "    </tr>\n",
       "    <tr>\n",
       "      <th>min</th>\n",
       "      <td>0.01</td>\n",
       "      <td>7.0</td>\n",
       "      <td>-661.6</td>\n",
       "      <td>-750.0</td>\n",
       "    </tr>\n",
       "    <tr>\n",
       "      <th>max</th>\n",
       "      <td>7537.579</td>\n",
       "      <td>893.0</td>\n",
       "      <td>1019.5</td>\n",
       "      <td>100.0</td>\n",
       "    </tr>\n",
       "    <tr>\n",
       "      <th>STD</th>\n",
       "      <td>51.081</td>\n",
       "      <td>18.0</td>\n",
       "      <td>5.9</td>\n",
       "      <td>38.7</td>\n",
       "    </tr>\n",
       "    <tr>\n",
       "      <th>count</th>\n",
       "      <td>216501</td>\n",
       "      <td>216501</td>\n",
       "      <td>216501</td>\n",
       "      <td>216501</td>\n",
       "    </tr>\n",
       "  </tbody>\n",
       "</table>\n",
       "</div>"
      ],
      "text/plain": [
       "       Area (km$^2$)     est Vol Diff (km$^3$) Perc Diff\n",
       "mean           3.446    40.0              -0.2      25.6\n",
       "median         0.252    38.0               0.0      34.1\n",
       "min             0.01     7.0            -661.6    -750.0\n",
       "max         7537.579   893.0            1019.5     100.0\n",
       "STD           51.081    18.0               5.9      38.7\n",
       "count         216501  216501            216501    216501"
      ]
     },
     "execution_count": 5,
     "metadata": {},
     "output_type": "execute_result"
    }
   ],
   "source": [
    "st1 = 1e-5\n",
    "st2 = 1e4\n",
    "stats, df, vol, vol_sub = stats_builder(data,st1,st2)\n",
    "print(stats.to_latex(float_format=\"%.1f\"))\n",
    "stats"
   ]
  },
  {
   "cell_type": "code",
   "execution_count": 6,
   "id": "c46a0a10",
   "metadata": {
    "tags": []
   },
   "outputs": [
    {
     "name": "stdout",
     "output_type": "stream",
     "text": [
      "1e-05 to 10000.0 * 10$^3$ km$^3$, sum subset volume: 135.7, 100.0\\% of glacier population, 100.0\\% of global volume, \n"
     ]
    }
   ],
   "source": [
    "tot_vol = np.round(sum(vol) / 1e3,3)\n",
    "subset_sum_vol = np.round(sum((np.mean(df[cols], axis = 1)) * df['Area']) / 1e3,3)\n",
    "print(\n",
    "    f'{st1} to {st2} * 10$^3$ km$^3$, '\n",
    "    f'sum subset volume: {np.round(subset_sum_vol,1)}, '\n",
    "    f'{np.round(len(df) / len(vol)*100,1)}\\% of glacier population, '\n",
    "    f'{np.round((subset_sum_vol / tot_vol)*100,1)}\\% of global volume, '\n",
    ")"
   ]
  }
 ],
 "metadata": {
  "kernelspec": {
   "display_name": "glacierml (Python3.8.10)",
   "language": "python",
   "name": "glacierml"
  },
  "language_info": {
   "codemirror_mode": {
    "name": "ipython",
    "version": 3
   },
   "file_extension": ".py",
   "mimetype": "text/x-python",
   "name": "python",
   "nbconvert_exporter": "python",
   "pygments_lexer": "ipython3",
   "version": "3.8.10"
  },
  "varInspector": {
   "cols": {
    "lenName": 16,
    "lenType": 16,
    "lenVar": 40
   },
   "kernels_config": {
    "python": {
     "delete_cmd_postfix": "",
     "delete_cmd_prefix": "del ",
     "library": "var_list.py",
     "varRefreshCmd": "print(var_dic_list())"
    },
    "r": {
     "delete_cmd_postfix": ") ",
     "delete_cmd_prefix": "rm(",
     "library": "var_list.r",
     "varRefreshCmd": "cat(var_dic_list()) "
    }
   },
   "types_to_exclude": [
    "module",
    "function",
    "builtin_function_or_method",
    "instance",
    "_Feature"
   ],
   "window_display": false
  }
 },
 "nbformat": 4,
 "nbformat_minor": 5
}
