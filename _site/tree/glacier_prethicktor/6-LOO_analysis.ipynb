{
 "cells": [
  {
   "cell_type": "code",
   "execution_count": null,
   "id": "1953e5aa",
   "metadata": {
    "tags": []
   },
   "outputs": [],
   "source": [
    "import glacierml as gl\n",
    "from tqdm import tqdm\n",
    "import scipy.stats as st\n",
    "from mpl_toolkits.axes_grid1 import make_axes_locatable\n",
    "import matplotlib as mpl\n",
    "import pandas as pd\n",
    "import os\n",
    "import numpy as np\n",
    "import matplotlib.pyplot as plt\n",
    "import path_manager as pm\n",
    "[\n",
    "        home_path, data_path, RGI_path, glathida_path, \n",
    "        ref_path, coregistration_testing_path, \n",
    "        arch_test_path, LOO_path\n",
    "] = pm.set_paths()\n",
    "pd.set_option('display.max_columns', None)"
   ]
  },
  {
   "cell_type": "code",
   "execution_count": null,
   "id": "c52a375c",
   "metadata": {
    "tags": []
   },
   "outputs": [],
   "source": [
    "#### normalize data for plotting ####\n",
    "norm = False\n",
    "\n",
    "def normx(x, norm = True):\n",
    "    if norm == False:\n",
    "        z = x\n",
    "    elif norm == True:\n",
    "        z = (x - np.min(x)) / (np.max(x) - np.min(x)) * 100\n",
    "    return z"
   ]
  },
  {
   "cell_type": "code",
   "execution_count": null,
   "id": "a514593c",
   "metadata": {
    "tags": []
   },
   "outputs": [],
   "source": [
    "cols, train = gl.load_LOO_data(home_path,include_train = True)\n",
    "cols, df = gl.load_LOO_data(home_path,include_train = False)\n",
    "\n",
    "train = train.sort_values('Thickness', ascending = True)"
   ]
  },
  {
   "cell_type": "code",
   "execution_count": null,
   "id": "a58da362",
   "metadata": {
    "tags": []
   },
   "outputs": [],
   "source": [
    "cols = train.index.tolist()"
   ]
  },
  {
   "cell_type": "code",
   "execution_count": null,
   "id": "9c139f28-a359-44d7-afa0-b6c038d76358",
   "metadata": {
    "tags": []
   },
   "outputs": [],
   "source": [
    "train[cols].T"
   ]
  },
  {
   "cell_type": "code",
   "execution_count": null,
   "id": "b1dff44b",
   "metadata": {
    "code_folding": [],
    "tags": []
   },
   "outputs": [],
   "source": [
    "### Visualize the dataset ####\n",
    "\n",
    "x = ((train[cols].T))\n",
    "plt.figure(figsize = (8,7))\n",
    "plt.imshow(\n",
    "    x, cmap = 'viridis',vmin=x.min().min(),vmax=x.max().max()\n",
    ")\n",
    "plt.gca().invert_yaxis()\n",
    "\n",
    "plt.colorbar(label = 'Estimated Thickness (m)')\n",
    "plt.xlabel('Glacier Index by Ascending True Thickness')\n",
    "plt.ylabel('Left-Out-Thickness Model')\n",
    "# plt.xlabel"
   ]
  },
  {
   "cell_type": "code",
   "execution_count": null,
   "id": "f6226df0",
   "metadata": {
    "tags": []
   },
   "outputs": [],
   "source": [
    "### Visualize the dataset ####\n",
    "r = (train[cols].T - train['Thickness']) / train['Thickness']\n",
    "plt.figure(figsize = (12,10))\n",
    "plt.imshow(\n",
    "    r, cmap = 'seismic',vmin=-(abs(r).max().max()),vmax=(abs(r).max().max())\n",
    ")\n",
    "plt.gca().invert_yaxis()\n",
    "\n",
    "plt.colorbar(label = 'Thickness Fractional Residual (m)')\n",
    "plt.xlabel('Glacier Index by Ascending True Thickness')\n",
    "plt.ylabel('Left-Out-Thickness Model')\n",
    "# plt.xlabel"
   ]
  },
  {
   "cell_type": "code",
   "execution_count": null,
   "id": "b93c8f0e",
   "metadata": {
    "tags": []
   },
   "outputs": [],
   "source": [
    "#Each row of m represents a variable\n",
    "#each column a single observation of all those variables.\n",
    "#treat each model as a variable\n",
    "cov1 = np.cov(df[cols].T)\n",
    "cor1 = np.corrcoef(df[cols].T)\n",
    "\n",
    "x = cov1\n",
    "\n",
    "fig = plt.subplots(figsize = (12,10))\n",
    "plt.imshow(\n",
    "    x,cmap = 'coolwarm',vmin=np.min(x),vmax=np.max(x)\n",
    ")\n",
    "plt.gca().invert_yaxis()\n",
    "\n",
    "plt.title('Covariance of Model Distributions')\n",
    "plt.colorbar()\n",
    "\n",
    "x = cor1\n",
    "\n",
    "fig = plt.subplots(figsize = (12,10))\n",
    "plt.imshow(\n",
    "    x,cmap = 'coolwarm',vmin=np.min(x),vmax=np.max(x)\n",
    ")\n",
    "plt.gca().invert_yaxis()\n",
    "\n",
    "plt.title('Correlation of Model Distributions')\n",
    "plt.colorbar()\n",
    "\n",
    "# #treat each glacier as a variable\n",
    "# cov2 = np.cov(df[cols])\n",
    "# cor2 = np.corrcoef(df[cols])\n",
    "# x = cor2\n",
    "\n",
    "# plt.figure(figsize=(12, 10))\n",
    "# plt.imshow(\n",
    "#     x, cmap = 'coolwarm',vmin=x.min(),vmax = x.max()\n",
    "# )\n",
    "# plt.title('Correlation of Thickness Distributions')\n",
    "# plt.gca().invert_yaxis()\n",
    "\n",
    "# plt.colorbar()\n",
    "# x = cov2\n",
    "\n",
    "# plt.figure(figsize=(12, 10))\n",
    "# plt.imshow(\n",
    "#     x, cmap = 'coolwarm',vmin=x.min(),vmax = x.max()\n",
    "# )\n",
    "# plt.gca().invert_yaxis()\n",
    "\n",
    "# plt.title('Covariance of Thickness Distributions')\n",
    "\n",
    "# plt.colorbar()"
   ]
  },
  {
   "cell_type": "code",
   "execution_count": null,
   "id": "c7ca6081",
   "metadata": {
    "code_folding": [],
    "tags": []
   },
   "outputs": [],
   "source": [
    "#### Left-Out-Thickness Model Estimates ####\n",
    "mods = pd.DataFrame(columns = ['LOO','True'])\n",
    "mods['LOO'] = pd.Series(np.diag(train[cols]))\n",
    "mods['True'] = (train['Thickness'].reset_index().drop('index', axis = 1))\n",
    "\n",
    "x = mods['True']\n",
    "y = mods['LOO']\n",
    "plt.scatter(\n",
    "    x,y,alpha = 0.25\n",
    ")\n",
    "plt.plot(\n",
    "    (x.min(),x.max()),\n",
    "    (x.min(),x.max()),\n",
    "    'k-'\n",
    ")\n",
    "plt.xlabel('True Thickness (m)')\n",
    "plt.ylabel('Left-Out-Thickness Model Estimate')"
   ]
  },
  {
   "cell_type": "code",
   "execution_count": null,
   "id": "7bbabb72",
   "metadata": {
    "code_folding": [],
    "tags": []
   },
   "outputs": [],
   "source": [
    "#### Left-Out-Thickness Model Estimates ####\n",
    "mods = pd.DataFrame(columns = ['LOO','True'])\n",
    "mods['LOO'] = pd.Series(np.mean(train[cols],axis = 1))\n",
    "mods['True'] = (train['Thickness'])\n",
    "x = mods['True']\n",
    "y = mods['LOO']\n",
    "plt.scatter(\n",
    "    x,y,alpha = 0.25\n",
    ")\n",
    "plt.plot(\n",
    "    (x.min(),x.max()),\n",
    "    (x.min(),x.max()),\n",
    "    'k-'\n",
    ")\n",
    "plt.xlabel('True Thickness (m)')\n",
    "plt.ylabel('Cross-Validated Thickness Estimate')"
   ]
  },
  {
   "cell_type": "code",
   "execution_count": null,
   "id": "eb3d740b",
   "metadata": {
    "tags": []
   },
   "outputs": [],
   "source": [
    "mods[mods['True'] == mods['True'].max()]"
   ]
  },
  {
   "cell_type": "code",
   "execution_count": null,
   "id": "c7b0adcc",
   "metadata": {
    "tags": []
   },
   "outputs": [],
   "source": [
    "#### Calculate 95% confidence intervals ####\n",
    "X = np.mean(df[cols], axis = 1)\n",
    "se = np.std(df[cols], axis = 1) / np.sqrt(len(cols))\n",
    "\n",
    "df['LCI'] = X - (1.96 * se)\n",
    "df['UCI'] = X + (1.96 * se)\n",
    "\n",
    "lb = df['LCI'] / 1e3 * df['Area'] / 1e3\n",
    "ub = df['UCI'] / 1e3 * df['Area'] / 1e3"
   ]
  },
  {
   "cell_type": "code",
   "execution_count": null,
   "id": "7df8a7b6",
   "metadata": {},
   "outputs": [],
   "source": [
    "# Calculate 95% confidence intervals ####\n",
    "X = np.mean(train[cols], axis = 1)\n",
    "se = np.std(train[cols], axis = 1) / np.sqrt(len(cols))\n",
    "\n",
    "train['LCI'] = X - (1.96 * se)\n",
    "train['UCI'] = X + (1.96 * se)\n",
    "\n",
    "lb = train['LCI'] / 1e3 * train['Area'] / 1e3\n",
    "ub = train['UCI'] / 1e3 * train['Area'] / 1e3"
   ]
  },
  {
   "cell_type": "code",
   "execution_count": null,
   "id": "40299bc8",
   "metadata": {
    "code_folding": []
   },
   "outputs": [],
   "source": [
    "x = train['Thickness']\n",
    "# y = np.mean(dfci, axis = 1)\n",
    "# y = df['we']\n",
    "y = np.mean(train[cols],axis = 1)\n",
    "plt.errorbar(\n",
    "    x,y,yerr = train['UCI'] - train['LCI'],\n",
    "        alpha = 0.25,\n",
    "#     label = 'Estimates $\\hat{\\mu}(x)$',\n",
    "    linestyle = 'None',\n",
    "    marker = '.',\n",
    "    capsize = 8,\n",
    "    color = '#1f77b4',\n",
    ")\n",
    "\n",
    "plt.plot(\n",
    "    (x.min(),x.max()),\n",
    "    (x.min(),x.max()),\n",
    "    '-k'\n",
    ")\n",
    "\n",
    "plt.ylabel('Estimated Thickness')\n",
    "plt.xlabel('GlaThiDa Survey')\n",
    "plt.title('Leave-One-Out X-val 95% CI')\n",
    "# plt.xscale('log')\n",
    "# plt.yscale('log')"
   ]
  },
  {
   "cell_type": "code",
   "execution_count": null,
   "id": "f7fa42b3",
   "metadata": {
    "code_folding": []
   },
   "outputs": [],
   "source": [
    "#### Calculate 95% confidence intervals ####\n",
    "X = np.mean(df[cols], axis = 1)\n",
    "se = np.std(df[cols], axis = 1) / np.sqrt(len(cols))\n",
    "\n",
    "df['LCI'] = X - (1.96 * se)\n",
    "df['UCI'] = X + (1.96 * se)\n",
    "\n",
    "lb = df['LCI'] / 1e3 * df['Area'] / 1e3\n",
    "ub = df['UCI'] / 1e3 * df['Area'] / 1e3\n",
    "\n",
    "x = df['Thickness']\n",
    "# y = np.mean(dfci, axis = 1)\n",
    "# y = df['we']\n",
    "y = np.mean(df[cols],axis = 1)\n",
    "plt.errorbar(\n",
    "    x,y,yerr = df['UCI'] - df['LCI'],\n",
    "        alpha = 0.25,\n",
    "#     label = 'Estimates $\\hat{\\mu}(x)$',\n",
    "    linestyle = 'None',\n",
    "    marker = '.',\n",
    "    capsize = 8,\n",
    "    color = '#1f77b4',\n",
    ")\n",
    "\n",
    "plt.plot(\n",
    "    (x.min(),x.max()),\n",
    "    (x.min(),x.max()),\n",
    "    '-k'\n",
    ")\n",
    "\n",
    "plt.ylabel('Estimated Thickness')\n",
    "plt.xlabel('GlaThiDa Survey')\n",
    "plt.title('Leave-One-Out X-val 95% CI')\n",
    "# plt.xscale('log')\n",
    "# plt.yscale('log')"
   ]
  },
  {
   "cell_type": "code",
   "execution_count": null,
   "id": "1ebc175c",
   "metadata": {
    "tags": []
   },
   "outputs": [],
   "source": [
    "x = df[cols].T.loc[157]\n",
    "y = df[cols].T.loc[111]\n",
    "plt.plot(x,y,'o')\n",
    "plt.plot(\n",
    "    (x.min(),x.max()),\n",
    "    (x.min(),x.max()),\n",
    "    'k-'\n",
    ")\n",
    "A = df['RGIId'].T.loc[157]\n",
    "B = df['RGIId'].T.loc[111]\n",
    "# plt.title(f'Estimates of Model With Left Out {A} vs Left Out {B}')\n",
    "plt.xlabel(f'Estimates By Model Trained W/O {A} (m)')\n",
    "plt.ylabel(f'Estimates By Model Trained W/O {B} (m)')"
   ]
  },
  {
   "cell_type": "code",
   "execution_count": null,
   "id": "18f19f75",
   "metadata": {},
   "outputs": [],
   "source": [
    "conditions = [cor2 > 0]\n",
    "def glac_finder(conditions):\n",
    "\n",
    "    where = np.where(conditions)\n",
    "    a = where[1]\n",
    "    b = where[2]\n",
    "\n",
    "    t = np.zeros(shape=(len(a), 2))\n",
    "\n",
    "    combs = [[]]\n",
    "    for i in tqdm(range(len(a))):\n",
    "        x = a[i]\n",
    "        y = b[i]\n",
    "        if [x,y] in combs:\n",
    "            continue\n",
    "        z = np.array([x,y])\n",
    "        t[i] = z   \n",
    "        combs.append([y,x])\n",
    "    t = t[np.where(t[:,0] != t[:,1])]\n",
    "    return t\n",
    "\n",
    "def find_diffs(t,obj):\n",
    "    feat_list = ['Correlation','Distance','Area','Lmax','Slope','Zmin','index1','index2']\n",
    "    diffs = np.empty(shape = (0,len(feat_list)))\n",
    "    for i in tqdm(range(len(t))):\n",
    "        j = int(t[i][0])\n",
    "        k = int(t[i][1])\n",
    "\n",
    "        x = df.iloc[j]\n",
    "        y = df.iloc[k]\n",
    "        z = np.empty(shape = (len(feat_list),))\n",
    "\n",
    "        for l,feat in enumerate(feat_list):\n",
    "            if feat == 'Correlation':\n",
    "                z[l] = obj[int(t[i][0]),int(t[i][1])]\n",
    "            if feat == 'Distance':\n",
    "                z[l] = geopy.distance.geodesic(\n",
    "                    (x['CenLat'],x['CenLon']),\n",
    "                    (y['CenLat'],y['CenLon'])\n",
    "                ).kilometers\n",
    "            if feat == 'index1':\n",
    "                z[l] = j\n",
    "            if feat == 'index2':\n",
    "                z[l] = k\n",
    "            if (feat != 'Correlation' and \n",
    "                feat != 'Distance' and \n",
    "                feat != 'index1' and \n",
    "                feat != 'index2'):\n",
    "                z[l] = abs(x[feat] - y[feat])\n",
    "        z = np.expand_dims(z,0)\n",
    "        diffs = np.concatenate((diffs,z),axis = 0)\n",
    "\n",
    "    diffs = pd.DataFrame(diffs)\n",
    "\n",
    "    diffs = diffs.rename(columns = {\n",
    "        0:'Correlation',1:'Distance (km)',2:'Area',\n",
    "        3:'Lmax',4:'Slope',5:'Zmin',6:'index1',7:'index2'\n",
    "    })\n",
    "    diffs = diffs.sort_values('Correlation')\n",
    "    return diffs"
   ]
  },
  {
   "cell_type": "code",
   "execution_count": null,
   "id": "5a906ba9",
   "metadata": {},
   "outputs": [],
   "source": [
    "conditions = [cor1 < 0.95]\n",
    "t = glac_finder(conditions)\n",
    "i = np.random.randint(0, len(t))\n",
    "\n",
    "j = int(t[i][0])\n",
    "k = int(t[i][1])\n",
    "\n",
    "x = df[cols].T.iloc[j]\n",
    "y = df[cols].T.iloc[k]\n",
    "z = df[cols].index\n",
    "plt.scatter(x,y,c = z,alpha = 0.5)\n",
    "\n",
    "# model = np.poly1d(np.polyfit(x, y, 1))\n",
    "# plt.plot(x,model(x),'-r')\n",
    "plt.xlabel('Left Out Glacier:' + df['RGIId'].iloc[j] + \n",
    "          '\\nLeft Out Thickness = ' + str(df['Thickness'].iloc[j]) +\n",
    "          '\\nLeft Out Area = ' + str(df['Area'].iloc[j]))\n",
    "plt.ylabel('Left Out Glacier ' + df['RGIId'].iloc[k] + \n",
    "           '\\nLeft Out Thickness = ' + str(df['Thickness'].iloc[k]) +\n",
    "           '\\nLeft Out Area = ' + str(df['Area'].iloc[k]))\n",
    "plt.colorbar(label = 'Left Out Thickness Model Index')\n",
    "plt.plot(\n",
    "    (x.mean(),x.mean()),\n",
    "    (y.min(),y.max()),\n",
    "    '--k'\n",
    ")\n",
    "plt.plot(\n",
    "    (x.min(),x.max()),\n",
    "    (y.mean(),y.mean()),\n",
    "    '--k'\n",
    "    \n",
    ")\n",
    "# plt.axis('square')"
   ]
  },
  {
   "cell_type": "code",
   "execution_count": null,
   "id": "ba9a3c85",
   "metadata": {},
   "outputs": [],
   "source": [
    "obj = cov1\n",
    "conditions = [obj > 1045]\n",
    "t = glac_finder(conditions)\n",
    "diffs1 = find_diffs(t,obj)\n",
    "\n",
    "conditions = [obj < 1045]\n",
    "t = glac_finder(conditions)\n",
    "diffs2 = find_diffs(t,obj)\n",
    "\n",
    "feat_list = list(diffs1)\n",
    "\n",
    "for feat in feat_list:\n",
    "    plt.scatter(\n",
    "        diffs1[feat], diffs1['Correlation'], \n",
    "        alpha = 0.25,color = 'blue',\n",
    "        label = 'Corr > 0'\n",
    "    )\n",
    "    plt.scatter(\n",
    "        diffs2[feat],diffs2['Correlation'],\n",
    "        alpha = 0.25,color = 'orange',\n",
    "        label = 'Corr < 0'\n",
    "    )\n",
    "    if feat == 'Area' or feat == 'Lmax':\n",
    "        plt.xscale('log')\n",
    "    plt.xlabel(feat)\n",
    "    plt.ylabel('Covariance')\n",
    "    plt.show()"
   ]
  },
  {
   "cell_type": "code",
   "execution_count": null,
   "id": "c0bd62e1",
   "metadata": {},
   "outputs": [],
   "source": [
    "obj = cor1\n",
    "conditions = [obj > 0.94]\n",
    "t = glac_finder(conditions)\n",
    "diffs1 = find_diffs(t,obj)\n",
    "\n",
    "conditions = [obj < 0.94]\n",
    "t = glac_finder(conditions)\n",
    "diffs2 = find_diffs(t,obj)\n",
    "\n",
    "feat_list = list(diffs1)\n",
    "\n",
    "for feat in feat_list:\n",
    "    plt.scatter(\n",
    "        diffs1[feat], diffs1['Correlation'], \n",
    "        alpha = 0.25,color = 'blue',\n",
    "        label = 'Corr > 0'\n",
    "    )\n",
    "    plt.scatter(\n",
    "        diffs2[feat],diffs2['Correlation'],\n",
    "        alpha = 0.25,color = 'orange',\n",
    "        label = 'Corr < 0'\n",
    "    )\n",
    "    if feat == 'Area' or feat == 'Lmax':\n",
    "        plt.xscale('log')\n",
    "    plt.xlabel(feat)\n",
    "    plt.ylabel('Correlation')\n",
    "    plt.show()"
   ]
  },
  {
   "cell_type": "code",
   "execution_count": null,
   "id": "01221943",
   "metadata": {},
   "outputs": [],
   "source": [
    "from scipy.sparse.linalg import eigs"
   ]
  },
  {
   "cell_type": "code",
   "execution_count": null,
   "id": "e2551f8c",
   "metadata": {},
   "outputs": [],
   "source": [
    "L,Q=eigs(cov2,10)"
   ]
  },
  {
   "cell_type": "code",
   "execution_count": null,
   "id": "6df9c670",
   "metadata": {},
   "outputs": [],
   "source": [
    "Q"
   ]
  },
  {
   "cell_type": "code",
   "execution_count": null,
   "id": "e28057fe",
   "metadata": {},
   "outputs": [],
   "source": [
    "print(L/sum(L))\n",
    "\n",
    "plt.hist((Q[:,0]),20)\n",
    "plt.yscale('log')\n",
    "\n"
   ]
  },
  {
   "cell_type": "code",
   "execution_count": null,
   "id": "5738ebaf",
   "metadata": {},
   "outputs": [],
   "source": [
    "sum(np.abs(Q[:,0]) > 0.01)/340"
   ]
  },
  {
   "cell_type": "code",
   "execution_count": null,
   "id": "6eb99cc6",
   "metadata": {},
   "outputs": [],
   "source": [
    "plt.imshow(cor1,vmin=np.min(cor1),vmax=np.max(cor1),cmap='coolwarm')\n",
    "plt.xlim([240,273])\n",
    "plt.ylim([240,273])"
   ]
  },
  {
   "cell_type": "code",
   "execution_count": null,
   "id": "b1207bda",
   "metadata": {},
   "outputs": [],
   "source": [
    "j = np.random.randint(0, 199)\n",
    "# j = 157\n",
    "x = df[j]\n",
    "i = np.random.randint(0, 199)\n",
    "# i = 57\n",
    "y = df[i]\n",
    "plt.scatter(x,y,alpha = 0.25)\n",
    "# plt.plot(\n",
    "#     (10,300),\n",
    "#     (10,300),\n",
    "#     'k-'\n",
    "# )\n",
    "\n",
    "model = np.poly1d(np.polyfit(x, y, 1))\n",
    "\n",
    "\n",
    "# plt.axis('square')\n",
    "# plt.xscale('log')\n",
    "# plt.yscale('log')\n",
    "plt.xlabel('Estimates by Model ' + str(j))\n",
    "plt.ylabel('Estimates by Model ' + str(i))\n",
    "plt.grid()\n",
    "plt.plot(x,model(x),'-r')\n",
    "plt.show()\n",
    "\n",
    "# plt.imshow(cov2,cmap = 'coolwarm',vmin =np.min(cov2), vmax = np.max(cov2))"
   ]
  },
  {
   "cell_type": "code",
   "execution_count": null,
   "id": "cd7aa73b",
   "metadata": {},
   "outputs": [],
   "source": [
    "plt.plot((df[cols].iloc[i]),'o')\n",
    "plt.title('Thickness Estimates of Glacier ' + str(i))\n",
    "plt.xlabel('Index of Left-Out-Thickness Model Estimate')\n",
    "plt.ylabel('Estimated Thickness')\n",
    "plt.plot(\n",
    "    (0,df.index.sort_values()[-1]),\n",
    "    (np.mean(df[cols].iloc[i]), np.mean(df[cols].iloc[i])),\n",
    "    '-k'\n",
    ")\n",
    "\n",
    "# plt.plot(\n",
    "#     (0,340),\n",
    "#     (df['Thickness'].iloc[i], df['Thickness'].iloc[i]),\n",
    "#     '-.k'\n",
    "# )\n",
    "\n",
    "plt.show()\n",
    "plt.plot((df[cols].iloc[j]),'o')\n",
    "plt.title('Thickness Estimates of Glacier ' + str(j))\n",
    "plt.xlabel('Index of Left-Out-Thickness Model Estimate')\n",
    "plt.plot(\n",
    "    (0,df.index.sort_values()[-1]),\n",
    "    (np.mean(df[cols].iloc[j]), np.mean(df[cols].iloc[j])),\n",
    "    '-k'\n",
    ")\n",
    "# plt.plot(\n",
    "#     (0,340),\n",
    "#     (df['Thickness'].iloc[j], df['Thickness'].iloc[j]),\n",
    "#     '-.k'\n",
    "# )\n",
    "plt.ylabel('Estimated Thickness')\n",
    "plt.show()"
   ]
  },
  {
   "cell_type": "code",
   "execution_count": null,
   "id": "ad4f627a",
   "metadata": {},
   "outputs": [],
   "source": [
    "# plt.plot(thickness_estimates[10,:],thickness_estimates[9,:],'o')\n",
    "# plt.xlabel('Thickness estimates for Glacier A')\n",
    "# plt.ylabel('Thickness estimates for Glacier B')\n",
    "# plt.axis('square')"
   ]
  },
  {
   "cell_type": "code",
   "execution_count": null,
   "id": "95760e55",
   "metadata": {},
   "outputs": [],
   "source": [
    "np.mean(df[cols],axis = 1)"
   ]
  },
  {
   "cell_type": "code",
   "execution_count": null,
   "id": "93688875",
   "metadata": {},
   "outputs": [],
   "source": []
  },
  {
   "cell_type": "code",
   "execution_count": null,
   "id": "0eca0ac1",
   "metadata": {},
   "outputs": [],
   "source": [
    "x = df['Thickness']\n",
    "y = np.mean(df[cols],axis = 1)\n",
    "z = df['FMT']\n",
    "plt.scatter(\n",
    "    x,abs(y-x),alpha = 0.15,label = 'This Study Residual'\n",
    ")\n",
    "plt.scatter(\n",
    "    x,abs(z-x),alpha = 0.15,label = 'Farinotti Residual'\n",
    ")\n",
    "plt.plot(\n",
    "    (x.min(),x.max()),\n",
    "    (0,0),'k--'\n",
    ")\n",
    "plt.xlabel('GlaThiDa Thickness (m)')\n",
    "plt.ylabel('Residual (m)')\n",
    "plt.legend()\n",
    "plt.yscale('log')\n",
    "# plt.xscale('log')\n",
    "plt.show()\n",
    "\n",
    "x = (df['Thickness'] / 1e3) * df['Area']\n",
    "y = (np.mean(df[cols],axis = 1) / 1e3) * df['Area']\n",
    "z = (df['FMT'] / 1e3) * df['Area']\n",
    "plt.scatter(\n",
    "    x,abs(y-x),alpha = 0.15,label = 'This Study Residual'\n",
    ")\n",
    "plt.scatter(\n",
    "    x,abs(z-x),alpha = 0.15,label = 'Farinotti Residual'\n",
    ")\n",
    "plt.plot(\n",
    "    (x.min(),x.max()),\n",
    "    (0,0),'k--'\n",
    ")\n",
    "plt.xlabel('GlaThiDa Volume (km$^3$)')\n",
    "plt.ylabel('Residual (km$^3$)')\n",
    "plt.legend()\n",
    "plt.yscale('log')\n",
    "plt.xscale('log')"
   ]
  },
  {
   "cell_type": "code",
   "execution_count": null,
   "id": "052352de",
   "metadata": {},
   "outputs": [],
   "source": [
    "np.mean(abs(y-x))"
   ]
  },
  {
   "cell_type": "code",
   "execution_count": null,
   "id": "cec3d02f",
   "metadata": {},
   "outputs": [],
   "source": [
    "np.std(abs(y-x))"
   ]
  },
  {
   "cell_type": "code",
   "execution_count": null,
   "id": "40d4b9a4",
   "metadata": {},
   "outputs": [],
   "source": [
    "np.mean(abs(df['FMT']-x))"
   ]
  },
  {
   "cell_type": "code",
   "execution_count": null,
   "id": "d880a5f2",
   "metadata": {},
   "outputs": [],
   "source": [
    "np.std(abs(df['FMT']-x))"
   ]
  },
  {
   "cell_type": "code",
   "execution_count": null,
   "id": "8505a6f5",
   "metadata": {},
   "outputs": [],
   "source": [
    "df['res'] = y - df['Thickness'] \n",
    "\n",
    "df[abs(df['res']) >= 100]"
   ]
  },
  {
   "cell_type": "code",
   "execution_count": null,
   "id": "c1862881",
   "metadata": {},
   "outputs": [],
   "source": [
    "plt.hist(y-x,bins = 25,log = True)"
   ]
  },
  {
   "cell_type": "code",
   "execution_count": null,
   "id": "f9922c8d",
   "metadata": {},
   "outputs": [],
   "source": [
    "plt.scatter(\n",
    "    df.index, df['res']\n",
    ")\n",
    "# plt.xscale('log')"
   ]
  },
  {
   "cell_type": "code",
   "execution_count": null,
   "id": "7d12a886",
   "metadata": {},
   "outputs": [],
   "source": [
    "feat_list = ['CenLat', 'CenLon','Slope','Zmin','Zmed','Zmax','Area','Lmax','Thickness']\n",
    "\n",
    "for feature in feat_list:\n",
    "    plt.scatter(\n",
    "        df.index,\n",
    "        df[feature]\n",
    "    )\n",
    "    plt.xlabel('Index')\n",
    "    plt.ylabel(feature)\n",
    "    if feature == 'Area' or feature == 'Lmax':\n",
    "        plt.yscale('log')\n",
    "    plt.show()\n",
    "\n"
   ]
  },
  {
   "cell_type": "code",
   "execution_count": null,
   "id": "fbfa1dfe",
   "metadata": {},
   "outputs": [],
   "source": [
    "cov = pd.DataFrame(cov1)\n",
    "# cor = pd.DataFrame(cor)\n",
    "\n",
    "# bad_indexes = cov[cov[cols] == 0].dropna(axis = 0).index\n",
    "# cov_d = cov.drop(bad_indexes)\n",
    "# cor_d = cor.drop(bad_indexes)\n",
    "\n",
    "# cov_d = cov_d.reset_index().drop('index',axis = 1)\n",
    "# cor_d = cor_d.reset_index().drop('index',axis = 1)\n",
    "\n",
    "# dftr = dft.drop(bad_indexes)\n",
    "# dftr = dftr.reset_index().drop('index',axis = 1)\n",
    "\n",
    "# dfpd = df[cols].T.copy()\n",
    "# dfpd = dfpd.drop(bad_indexes)\n",
    "# dfpd = dfpd.reset_index().drop('index', axis = 1)"
   ]
  },
  {
   "cell_type": "code",
   "execution_count": null,
   "id": "9d485c30",
   "metadata": {},
   "outputs": [],
   "source": [
    "# identify columns that have one estimate for all glaciers.\n",
    "bad_models = df[cols].T[df.T.duplicated()].index\n",
    "bad_models"
   ]
  },
  {
   "cell_type": "code",
   "execution_count": null,
   "id": "98ae6052",
   "metadata": {},
   "outputs": [],
   "source": [
    "cols = list(filter(lambda a: a not in bad_models.to_list(), cols))\n",
    "df = df.drop(bad_models)"
   ]
  },
  {
   "cell_type": "code",
   "execution_count": null,
   "id": "7328bdd5",
   "metadata": {},
   "outputs": [],
   "source": [
    "n = 0\n",
    "p = plt.get_cmap('seismic')\n",
    "for i in tqdm(\n",
    "    df.index,\n",
    "):\n",
    "    x = df[cols].T.loc[i]\n",
    "    z = normx(x,norm)\n",
    "    x_eval = np.linspace(z.min(),z.max(),500)\n",
    "\n",
    "    kde = st.gaussian_kde(np.array(z))\n",
    "    plt.plot(\n",
    "        x_eval, kde(x_eval), '-',alpha = 0.15,\n",
    "        c = p(n/(len(df) - 1))\n",
    "    )\n",
    "    n = n + 1\n",
    "x = df['FMT']\n",
    "z = normx(x,norm)\n",
    "x_eval = np.linspace(z.min(),z.max(),500)\n",
    "kde = st.gaussian_kde(np.array(z))\n",
    "plt.plot(\n",
    "    x_eval, kde(x_eval), '-',alpha = 1,\n",
    "    c = 'orange'\n",
    ")\n",
    "plt.grid()\n",
    "\n",
    "# plt.xscale('symlog')\n",
    "plt.ylabel('Likelihood')\n",
    "if norm == True:\n",
    "    plt.xlabel('Normalized Estimated Thickness')\n",
    "if norm == False:\n",
    "    plt.xlabel('Estimated Thickness')\n",
    "# plt.xscale('log')\n",
    "# plt.title('Leave-One-Out Thickness PDF  -- sorted by ' + feat + ' ' +  order)\n",
    "divider = make_axes_locatable(plt.gca())\n",
    "ax_cb = divider.new_horizontal(size=\"5%\", pad=0.05)    \n",
    "cb1 = mpl.colorbar.ColorbarBase(\n",
    "    ax_cb, cmap=p, orientation='vertical',\n",
    "    ticklocation = 'auto',ticks = [],\n",
    "    label = 'Left-Out Index'\n",
    ")\n",
    "cb1.set_ticks(ticks = (0,1),labels = ['Min','Max'])\n",
    "# cb1.set_label('Thickness',x = -0.07)\n",
    "plt.gcf().add_axes(ax_cb)\n",
    "#     plt.show()\n"
   ]
  },
  {
   "cell_type": "code",
   "execution_count": null,
   "id": "da2e57f6",
   "metadata": {},
   "outputs": [],
   "source": [
    "# check the mean estimate.\n",
    "\n",
    "x = np.mean(df[cols],axis = 1)\n",
    "z = normx(x,norm)\n",
    "x_eval = np.linspace(z.min(),z.max(),500)\n",
    "kde = st.gaussian_kde(np.array(z))\n",
    "plt.plot(\n",
    "    x_eval, kde(x_eval), '-',alpha = 1,\n",
    "    c = 'blue',label = 'Mean LOO estimate'\n",
    ")\n",
    "\n",
    "\n",
    "x = df['Thickness']\n",
    "z = normx(x,norm)\n",
    "x_eval = np.linspace(z.min(),z.max(),500)\n",
    "kde = st.gaussian_kde(np.array(z))\n",
    "plt.plot(\n",
    "    x_eval, kde(x_eval), '-',alpha = 1,\n",
    "    c = 'orange',label = 'GlaThiDa Thickness'\n",
    ")\n",
    "\n",
    "# x = df['FMT']\n",
    "# z = normx(x,norm)\n",
    "# x_eval = np.linspace(z.min(),z.max(),500)\n",
    "# kde = st.gaussian_kde(np.array(z))\n",
    "# plt.plot(\n",
    "#     x_eval, kde(x_eval), '-',alpha = 1,\n",
    "#     c = 'red',label = 'Farinotti Thickness'\n",
    "# )\n",
    "plt.grid()\n",
    "plt.legend()\n",
    "# plt.title('Leave-One-Out Mean Thickness PDF -- sorted by ' + feat + ' ' +  order)\n",
    "\n",
    "# plt.xscale('symlog')\n",
    "plt.ylabel('Likelihood')\n",
    "if norm == True:\n",
    "    plt.xlabel('Normalized Estimated Thickness')\n",
    "if norm == False:\n",
    "    plt.xlabel('Estimated Thickness')\n",
    "# plt.title('Leave-One-Out Thickness PDF')\n",
    "# divider = make_axes_locatable(plt.gca())\n",
    "# ax_cb = divider.new_horizontal(size=\"5%\", pad=0.05)    \n",
    "# cb1 = mpl.colorbar.ColorbarBase(\n",
    "#     ax_cb, cmap=p, orientation='vertical',\n",
    "#     ticklocation = 'auto',ticks = [],\n",
    "#     label = 'Left-Out Thickness'\n",
    "# )\n",
    "# cb1.set_ticks(ticks = (0,1),labels = ['Min','Max'])\n",
    "# cb1.set_label('Thickness',x = -0.07)\n",
    "# plt.gcf().add_axes(ax_cb)\n",
    "\n",
    "#     plt.show()\n",
    "# plt.xscale('log')"
   ]
  },
  {
   "cell_type": "code",
   "execution_count": null,
   "id": "c665e6d0",
   "metadata": {},
   "outputs": [],
   "source": [
    "x = df['Thickness']\n",
    "y = np.mean(df[cols],axis = 1)\n",
    "z = df['FMT'] \n",
    "plt.scatter(\n",
    "    x,y,alpha = 0.25,label = 'This Study Volume'\n",
    ")\n",
    "plt.scatter(\n",
    "    x,z,alpha = 0.25,label = 'Farinotti Volume'\n",
    ")\n",
    "plt.plot(\n",
    "    (x.min(),x.max()),\n",
    "    (x.min(),x.max()),\n",
    "    c = 'orange'    \n",
    ")\n",
    "plt.legend()\n",
    "plt.xlabel('GlaThiDa Volume')\n",
    "plt.ylabel('Estimated Volume')\n",
    "# plt.xscale('log')\n",
    "# plt.yscale('log')"
   ]
  },
  {
   "cell_type": "code",
   "execution_count": null,
   "id": "524cef17",
   "metadata": {},
   "outputs": [],
   "source": [
    "p = plt.get_cmap('seismic')\n",
    "n = 0\n",
    "for i in tqdm(\n",
    "    df.index,\n",
    "#     dftr.sort_values('Thickness',ascending = True).reset_index().index\n",
    "):\n",
    "#     print(dft['Thickness'].loc[i])\n",
    "\n",
    "    \n",
    "    x =cov.loc[i] \n",
    "    z = normx(x,norm)\n",
    "\n",
    "    x_eval = np.linspace(z.min(),z.max(),500)\n",
    "\n",
    "    kde = st.gaussian_kde(np.array(z))\n",
    "    plt.plot(\n",
    "        x_eval, kde(x_eval), '-',alpha = 0.5,\n",
    "        c = p(n/(len(df)))\n",
    "    )\n",
    "    n = n + 1\n",
    "#     c = p(n/(len(pos) - 1))\n",
    "# plt.ylim(0,0.2)\n",
    "# plt.yscale('log')\n",
    "# plt.xscale('symlog')\n",
    "plt.ylabel('Density')\n",
    "if norm == True:\n",
    "    plt.xlabel('Normalized Covariance')\n",
    "if norm == False:\n",
    "    plt.xlabel('Covariance')\n",
    "# plt.title('Leave-One-Out Covariance PDF -- sorted by ' + feat + ' ' +  order )\n",
    "divider = make_axes_locatable(plt.gca())\n",
    "ax_cb = divider.new_horizontal(size=\"5%\", pad=0.05)    \n",
    "cb1 = mpl.colorbar.ColorbarBase(\n",
    "    ax_cb, cmap=p, orientation='vertical',\n",
    "    ticklocation = 'auto',ticks = [],\n",
    "    label = 'Left-Out Index'\n",
    ")\n",
    "cb1.set_ticks(ticks = (0,1),labels = ['Min','Max'])\n",
    "# cb1.set_label('Thickness',x = -0.07)\n",
    "plt.gcf().add_axes(ax_cb)\n",
    "\n",
    "#     plt.show()\n"
   ]
  },
  {
   "cell_type": "code",
   "execution_count": null,
   "id": "1d79ddfa",
   "metadata": {},
   "outputs": [],
   "source": []
  }
 ],
 "metadata": {
  "kernelspec": {
   "display_name": "glacierml (Python3.8.10)",
   "language": "python",
   "name": "glacierml"
  },
  "language_info": {
   "codemirror_mode": {
    "name": "ipython",
    "version": 3
   },
   "file_extension": ".py",
   "mimetype": "text/x-python",
   "name": "python",
   "nbconvert_exporter": "python",
   "pygments_lexer": "ipython3",
   "version": "3.8.10"
  },
  "varInspector": {
   "cols": {
    "lenName": 16,
    "lenType": 16,
    "lenVar": 40
   },
   "kernels_config": {
    "python": {
     "delete_cmd_postfix": "",
     "delete_cmd_prefix": "del ",
     "library": "var_list.py",
     "varRefreshCmd": "print(var_dic_list())"
    },
    "r": {
     "delete_cmd_postfix": ") ",
     "delete_cmd_prefix": "rm(",
     "library": "var_list.r",
     "varRefreshCmd": "cat(var_dic_list()) "
    }
   },
   "types_to_exclude": [
    "module",
    "function",
    "builtin_function_or_method",
    "instance",
    "_Feature"
   ],
   "window_display": false
  }
 },
 "nbformat": 4,
 "nbformat_minor": 5
}
