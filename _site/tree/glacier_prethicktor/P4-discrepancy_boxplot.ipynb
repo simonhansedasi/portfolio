{
 "cells": [
  {
   "cell_type": "code",
   "execution_count": null,
   "id": "de31abcd",
   "metadata": {
    "tags": []
   },
   "outputs": [],
   "source": [
    "import matplotlib.pyplot as plt\n",
    "import numpy as np\n",
    "import pandas as pd\n",
    "from matplotlib.patches import Patch\n",
    "import matplotlib.colors as mcolors\n",
    "import glacierml as gl\n",
    "import path_manager as pm\n",
    "[\n",
    "        home_path, data_path, RGI_path, glathida_path, \n",
    "        ref_path, coregistration_testing_path, \n",
    "        arch_test_path, LOO_path\n",
    "] = pm.set_paths()"
   ]
  },
  {
   "cell_type": "code",
   "execution_count": null,
   "id": "ab282a2c-6c53-475f-871b-642a05cffebb",
   "metadata": {},
   "outputs": [],
   "source": [
    "cols,df = gl.load_LOO_data(home_path,include_refs = True)"
   ]
  },
  {
   "cell_type": "code",
   "execution_count": null,
   "id": "e6172de7-8e71-4f46-9844-eb7d5de66fff",
   "metadata": {},
   "outputs": [],
   "source": [
    "df = df.dropna(subset = ['FMT'])\n",
    "r = (np.mean(df[cols],axis = 1) * df['Area']) - (df['FMT']*df['Area'])\n",
    "df = pd.concat([df,pd.Series(r,name = 'r')],axis = 1)"
   ]
  },
  {
   "cell_type": "code",
   "execution_count": null,
   "id": "578d48a3",
   "metadata": {
    "tags": []
   },
   "outputs": [],
   "source": [
    "df.loc[df['TermType'] == 0, 'TermType'] = 'Land'\n",
    "df.loc[df['TermType'] == 1, 'TermType'] = 'Marine'\n",
    "df.loc[df['TermType'] == 2, 'TermType'] = 'Lake'\n",
    "df.loc[df['TermType'] == 5, 'TermType'] = 'Shelf'\n",
    "df.loc[df['Form'] == 0, 'Form'] = 'Glacier'\n",
    "df.loc[df['Form'] == 1, 'Form'] = 'Ice Cap'"
   ]
  },
  {
   "cell_type": "code",
   "execution_count": null,
   "id": "b140b322",
   "metadata": {
    "tags": []
   },
   "outputs": [],
   "source": [
    "offset = 0.09 \n",
    "\n",
    "termtype_mapping = {'Land': 0, 'Marine': 1, 'Lake': 2, 'Shelf': 3}\n",
    "\n",
    "glacier_data = df[df['Form'] == 'Glacier'].copy()  # Create a copy to avoid SettingWithCopyWarning\n",
    "glacier_data.loc[:, 'TermType'] = glacier_data['TermType'].map(termtype_mapping) + offset\n",
    "\n",
    "ice_cap_data = df[df['Form'] == 'Ice Cap'].copy()  # Create a copy to avoid SettingWithCopyWarning\n",
    "ice_cap_data.loc[:, 'TermType'] = ice_cap_data['TermType'].map(termtype_mapping) - offset\n",
    "\n",
    "combined_data = pd.concat([glacier_data, ice_cap_data])\n",
    "\n",
    "outliers_glacier = []\n",
    "outliers_ice_cap = []\n",
    "total_glacier = []\n",
    "total_ice_cap = []\n",
    "percent_outliers_glacier = []\n",
    "percent_outliers_ice_cap = []\n",
    "\n",
    "for term_type, group_data in combined_data.groupby('TermType'):\n",
    "    glacier_r = group_data[group_data['Form'] == 'Glacier']['r']\n",
    "    ice_cap_r = group_data[group_data['Form'] == 'Ice Cap']['r']\n",
    "\n",
    "    glacier_bp = plt.boxplot(glacier_r,\n",
    "                             positions=[term_type - 0.25],\n",
    "                             widths=0.2,\n",
    "                             patch_artist=True,\n",
    "                             labels=['Glacier'],\n",
    "                             medianprops=dict(color='black', linewidth=1))\n",
    "\n",
    "    ice_cap_bp = plt.boxplot(ice_cap_r,\n",
    "                             positions=[term_type + 0.25],\n",
    "                             widths=0.2,\n",
    "                             patch_artist=True,\n",
    "                             labels=['Ice Cap'],\n",
    "                             medianprops=dict(color='black', linewidth=1))\n",
    "\n",
    "    glacier_bp['boxes'][0].set_facecolor((0.529, 0.808, 0.922))\n",
    "    ice_cap_bp['boxes'][0].set_facecolor((1.000, 0.706, 0.490))\n",
    "\n",
    "    num_outliers_glacier = len(glacier_bp['fliers'][0].get_data()[1])\n",
    "    outliers_glacier.append(num_outliers_glacier)\n",
    "\n",
    "    num_outliers_ice_cap = len(ice_cap_bp['fliers'][0].get_data()[1])\n",
    "    outliers_ice_cap.append(num_outliers_ice_cap)\n",
    "\n",
    "    num_data_points_glacier = len(glacier_r)\n",
    "    total_glacier.append(num_data_points_glacier)\n",
    "\n",
    "    num_data_points_ice_cap = len(ice_cap_r)\n",
    "    total_ice_cap.append(num_data_points_ice_cap)\n",
    "\n",
    "    percent_outliers_glacier.append((num_outliers_glacier / num_data_points_glacier * 100) if num_data_points_glacier != 0 else 0)\n",
    "\n",
    "    percent_outliers_ice_cap.append((num_outliers_ice_cap / num_data_points_ice_cap * 100) if num_data_points_ice_cap != 0 else 0)\n",
    "\n",
    "legend_handles = [Patch(facecolor=(0.529, 0.808, 0.922), edgecolor='black', label='Glacier'),\n",
    "                  Patch(facecolor=(1.000, 0.706, 0.490), edgecolor='black', label='Ice Cap')]\n",
    "\n",
    "plt.legend(handles=legend_handles, loc='upper right')\n",
    "\n",
    "plt.xlabel('Termination Types')\n",
    "plt.ylabel('Discrepancy W/ Farinotti (km$^3$)')\n",
    "plt.title(f'Global Discrepancies of Glaciers and Ice Caps')\n",
    "plt.xticks(range(len(termtype_mapping)), termtype_mapping.keys())\n",
    "plt.grid(True)\n",
    "plt.ylim([-1e3,1e4])\n",
    "plt.yscale('symlog')\n",
    "plt.show()\n",
    "\n",
    "print(\"Number of outliers for Glacier:\", (outliers_glacier))\n",
    "print(\"Number of outliers for Ice Cap:\", (outliers_ice_cap))\n",
    "print(\"Total number of data points for Glacier:\", (total_glacier))\n",
    "print(\"Total number of data points for Ice Cap:\", (total_ice_cap))\n",
    "print(\"Percent outliers for Glacier:\", np.round(percent_outliers_glacier, 2))\n",
    "print(\"Percent outliers for Ice Cap:\", np.round(percent_outliers_ice_cap, 2))\n"
   ]
  },
  {
   "cell_type": "code",
   "execution_count": null,
   "id": "0fc8c891",
   "metadata": {
    "tags": []
   },
   "outputs": [],
   "source": [
    "import matplotlib.pyplot as plt\n",
    "import numpy as np\n",
    "import pandas as pd\n",
    "from matplotlib.patches import Patch\n",
    "\n",
    "for region in df['region'].sort_values().unique():\n",
    "    dft = df[df['region'] == region].copy()  \n",
    "\n",
    "    offset = 0.09  \n",
    "\n",
    "    termtype_mapping = {'Land': 0, 'Marine': 1, 'Lake': 2, 'Shelf': 3}\n",
    "\n",
    "    glacier_data = dft[dft['Form'] == 'Glacier'].copy()  \n",
    "    glacier_data.loc[:, 'TermType'] = glacier_data['TermType'].map(termtype_mapping) + offset\n",
    "\n",
    "    # Apply the offset to ice cap data\n",
    "    ice_cap_data = dft[dft['Form'] == 'Ice Cap'].copy() \n",
    "    ice_cap_data.loc[:, 'TermType'] = ice_cap_data['TermType'].map(termtype_mapping) - offset\n",
    "\n",
    "    combined_data = pd.concat([glacier_data, ice_cap_data])\n",
    "\n",
    "    plt.figure(figsize=(9, 5))\n",
    "\n",
    "    for term_type, group_data in combined_data.groupby('TermType'):\n",
    "        glacier_r = (group_data[group_data['Form'] == 'Glacier']['r'])\n",
    "        ice_cap_r = (group_data[group_data['Form'] == 'Ice Cap']['r'])\n",
    "\n",
    "        glacier_bp = plt.boxplot(glacier_r,\n",
    "                                 positions=[term_type - 0.25],\n",
    "                                 widths=0.2,\n",
    "                                 patch_artist=True,\n",
    "                                 labels=['Glacier'],\n",
    "                                 medianprops=dict(color='black', linewidth=1))\n",
    "\n",
    "        ice_cap_bp = plt.boxplot(ice_cap_r,\n",
    "                                 positions=[term_type + 0.25],\n",
    "                                 widths=0.2,\n",
    "                                 patch_artist=True,\n",
    "                                 labels=['Ice Cap'],\n",
    "                                 medianprops=dict(color='black', linewidth=1))\n",
    "\n",
    "        glacier_bp['boxes'][0].set_facecolor((0.529, 0.808, 0.922))\n",
    "        ice_cap_bp['boxes'][0].set_facecolor((1.000, 0.706, 0.490))\n",
    "\n",
    "    legend_handles = [Patch(facecolor=(0.529, 0.808, 0.922), edgecolor='black', label='Glacier'),\n",
    "                      Patch(facecolor=(1.000, 0.706, 0.490), edgecolor='black', label='Ice Cap')]\n",
    "\n",
    "    plt.legend(handles=legend_handles, loc='lower right')\n",
    "\n",
    "    plt.xlabel('Termination Types')\n",
    "    plt.ylabel('Absolute Discrepancy W/ Farinotti (km$^3$)')\n",
    "    plt.title(f'Absolute Discrepancies of Glaciers and Ice Caps in RGI Region {region}')\n",
    "    plt.xticks(range(len(termtype_mapping)), termtype_mapping.keys())\n",
    "    plt.grid(True)\n",
    "    plt.yscale('symlog')\n",
    "    plt.show()\n"
   ]
  }
 ],
 "metadata": {
  "kernelspec": {
   "display_name": "glacierml (Python3.8.10)",
   "language": "python",
   "name": "glacierml"
  },
  "language_info": {
   "codemirror_mode": {
    "name": "ipython",
    "version": 3
   },
   "file_extension": ".py",
   "mimetype": "text/x-python",
   "name": "python",
   "nbconvert_exporter": "python",
   "pygments_lexer": "ipython3",
   "version": "3.8.10"
  },
  "varInspector": {
   "cols": {
    "lenName": 16,
    "lenType": 16,
    "lenVar": 40
   },
   "kernels_config": {
    "python": {
     "delete_cmd_postfix": "",
     "delete_cmd_prefix": "del ",
     "library": "var_list.py",
     "varRefreshCmd": "print(var_dic_list())"
    },
    "r": {
     "delete_cmd_postfix": ") ",
     "delete_cmd_prefix": "rm(",
     "library": "var_list.r",
     "varRefreshCmd": "cat(var_dic_list()) "
    }
   },
   "types_to_exclude": [
    "module",
    "function",
    "builtin_function_or_method",
    "instance",
    "_Feature"
   ],
   "window_display": false
  }
 },
 "nbformat": 4,
 "nbformat_minor": 5
}
