{
 "cells": [
  {
   "cell_type": "code",
   "execution_count": null,
   "id": "86facc96",
   "metadata": {},
   "outputs": [],
   "source": [
    "import pandas as pd\n",
    "import os\n",
    "import glacierml as gl\n",
    "from tqdm import tqdm\n",
    "import matplotlib.pyplot as plt\n",
    "import path_manager as pm\n",
    "[\n",
    "        home_path, data_path, RGI_path, glathida_path, \n",
    "        ref_path, coregistration_testing_path, \n",
    "        arch_test_path, LOO_path\n",
    "] = pm.set_paths()"
   ]
  },
  {
   "cell_type": "code",
   "execution_count": null,
   "id": "6d3856e6",
   "metadata": {},
   "outputs": [],
   "source": [
    "df = gl.coregister_data(data_path,'4')\n",
    "df = df.reset_index().drop('index', axis = 1)\n",
    "\n",
    "dft = df.copy()\n",
    "\n",
    "trfeat, tefeat, trlabs, telabs = gl.split_data(df)"
   ]
  },
  {
   "cell_type": "code",
   "execution_count": null,
   "id": "ca435178",
   "metadata": {},
   "outputs": [],
   "source": [
    "results = pd.DataFrame(\n",
    "    columns = ['Arch','Metric','Loss']\n",
    ")"
   ]
  },
  {
   "cell_type": "code",
   "execution_count": null,
   "id": "b17f9f5f",
   "metadata": {},
   "outputs": [],
   "source": [
    "for loss_metric in os.listdir(arch_test_path):\n",
    "    loss = []\n",
    "    architectures = []\n",
    "    params = []\n",
    "    for arch in tqdm(os.listdir(os.path.join(arch_test_path,loss_metric))):\n",
    "        architectures.append(arch)\n",
    "\n",
    "        model_path = os.path.join(arch_test_path,loss_metric,arch)\n",
    "        model = gl.load_dnn_model(model_path)\n",
    "        \n",
    "        score = model.evaluate(tefeat,telabs,verbose = 0)\n",
    "        loss.append(score)\n",
    "        \n",
    "        num_params = model.count_params()\n",
    "        params.append(num_params)\n",
    "        \n",
    "    loss = pd.Series(loss,name = 'Loss')\n",
    "    params = pd.Series(params,name = 'Parameters')\n",
    "    architectures = pd.Series(architectures,name = 'Arch')\n",
    "    metric = pd.Series(loss_metric,name = 'Metric',index = loss.index)\n",
    "    res_temp = pd.concat([architectures,metric,loss,params/273],axis = 1)\n",
    "    results = pd.concat([results,res_temp],axis = 0)"
   ]
  },
  {
   "cell_type": "code",
   "execution_count": null,
   "id": "d1851178",
   "metadata": {},
   "outputs": [],
   "source": [
    "results.to_pickle(os.path.join(arch_test_path,'results.pkl'))"
   ]
  },
  {
   "cell_type": "code",
   "execution_count": null,
   "id": "49bd22c2",
   "metadata": {},
   "outputs": [],
   "source": [
    "results = pd.read_pickle(os.path.join(arch_test_path,'results.pkl'))"
   ]
  },
  {
   "cell_type": "code",
   "execution_count": null,
   "id": "05d7a2ff",
   "metadata": {},
   "outputs": [],
   "source": [
    "mae = results[results['Metric'] == 'mae']\n",
    "mse = results[results['Metric'] == 'mse']"
   ]
  },
  {
   "cell_type": "code",
   "execution_count": null,
   "id": "fc89f2e7",
   "metadata": {},
   "outputs": [],
   "source": [
    "mse['MSE_Rank'] = mse['Loss'].rank()\n",
    "mae['MAE_Rank'] = mae['Loss'].rank()\n",
    "\n",
    "df_ranked = pd.merge(mse[\n",
    "    ['Arch', 'MSE_Rank','Parameters']\n",
    "], mae[\n",
    "    ['Arch', 'MAE_Rank','Parameters']\n",
    "], on=['Arch','Parameters'])\n",
    "\n",
    "df_ranked['Rank_Difference'] = abs(df_ranked['MSE_Rank'] - df_ranked['MAE_Rank'])\n",
    "min_difference = df_ranked['Rank_Difference'].min()\n",
    "\n",
    "threshold = 5  \n",
    "\n",
    "min_difference_architectures = df_ranked[\n",
    "    df_ranked['Rank_Difference'] <= threshold][\n",
    "    ['Arch', 'Rank_Difference','Parameters']\n",
    "].sort_values('Rank_Difference')\n",
    "\n",
    "print(f'Architectures with a rank difference less than or equal to {threshold}:')\n",
    "print(min_difference_architectures)"
   ]
  }
 ],
 "metadata": {
  "kernelspec": {
   "display_name": "glacierml (Python3.8.10)",
   "language": "python",
   "name": "glacierml"
  },
  "language_info": {
   "codemirror_mode": {
    "name": "ipython",
    "version": 3
   },
   "file_extension": ".py",
   "mimetype": "text/x-python",
   "name": "python",
   "nbconvert_exporter": "python",
   "pygments_lexer": "ipython3",
   "version": "3.8.10"
  },
  "varInspector": {
   "cols": {
    "lenName": 16,
    "lenType": 16,
    "lenVar": 40
   },
   "kernels_config": {
    "python": {
     "delete_cmd_postfix": "",
     "delete_cmd_prefix": "del ",
     "library": "var_list.py",
     "varRefreshCmd": "print(var_dic_list())"
    },
    "r": {
     "delete_cmd_postfix": ") ",
     "delete_cmd_prefix": "rm(",
     "library": "var_list.r",
     "varRefreshCmd": "cat(var_dic_list()) "
    }
   },
   "types_to_exclude": [
    "module",
    "function",
    "builtin_function_or_method",
    "instance",
    "_Feature"
   ],
   "window_display": false
  }
 },
 "nbformat": 4,
 "nbformat_minor": 5
}
