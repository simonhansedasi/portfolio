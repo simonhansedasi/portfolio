{
 "cells": [
  {
   "cell_type": "code",
   "execution_count": null,
   "id": "83cd0fa7",
   "metadata": {
    "tags": []
   },
   "outputs": [],
   "source": [
    "import glacierml as gl\n",
    "import matplotlib.pyplot as plt\n",
    "import numpy as np\n",
    "from scipy.stats import gaussian_kde\n",
    "from tqdm import tqdm\n",
    "from matplotlib import ticker\n",
    "import configparser\n",
    "import pandas as pd\n",
    "import os\n",
    "pd.set_option('display.max_columns', None)\n",
    "import path_manager as pm\n",
    "[\n",
    "        home_path, data_path, RGI_path, glathida_path, \n",
    "        ref_path, coregistration_testing_path, \n",
    "        arch_test_path, LOO_path\n",
    "] = pm.set_paths()"
   ]
  },
  {
   "cell_type": "code",
   "execution_count": null,
   "id": "46f6f4d1",
   "metadata": {
    "tags": []
   },
   "outputs": [],
   "source": [
    "cols, df = gl.load_LOO_data(home_path,include_train = False)\n",
    "# df = df.dropna(subset = ['FMT'])"
   ]
  },
  {
   "cell_type": "code",
   "execution_count": null,
   "id": "d9f5cd58",
   "metadata": {},
   "outputs": [],
   "source": [
    "x = df['FMT'] * df['Area']\n",
    "y = np.mean(df[cols], axis = 1) * df['Area']\n",
    "# xy = np.vstack([np.log10(x),np.log10(y)])\n",
    "# print('calculating density')\n",
    "# z = gaussian_kde(xy)(xy)\n",
    "\n",
    "bins_x = np.logspace(np.log10(np.min(x)), np.log10(np.max(x)), 25)\n",
    "bins_y = np.logspace(np.log10(np.min(y)), np.log10(np.max(y)), 25)"
   ]
  },
  {
   "cell_type": "code",
   "execution_count": null,
   "id": "65cad853",
   "metadata": {},
   "outputs": [],
   "source": [
    "def scatter_hist(x, y, ax, \n",
    "                 ax_histx, ax_histy\n",
    "                ):\n",
    "    # no labels\n",
    "    ax_histx.tick_params(axis=\"x\", labelbottom=False, size = 36)\n",
    "    ax_histy.tick_params(axis=\"y\", labelleft=False, size = 36)\n",
    "\n",
    "    # the scatter plot:\n",
    "    ax.scatter(x, y, \n",
    "               # c = (z), \n",
    "               s = 100,\n",
    "               cmap = 'viridis',\n",
    "               marker = '.'\n",
    "              )\n",
    "    ax.plot(\n",
    "        (0.0001,5000),\n",
    "        (0.0001,5000),\n",
    "        '-',\n",
    "        c = 'orange',\n",
    "        linewidth = 5\n",
    "\n",
    "    )\n",
    "\n",
    "    ax_histx.hist(\n",
    "        (x), \n",
    "        bins = bins_x,\n",
    "        edgecolor = 'black',\n",
    "        log = True\n",
    "    )\n",
    "\n",
    "    ax_histy.hist(\n",
    "        (y), \n",
    "        bins = bins_y, \n",
    "        edgecolor = 'black',\n",
    "        orientation='horizontal',\n",
    "        log = True\n",
    "    )\n",
    "    ax_histx.tick_params(axis=\"x\", labelsize=36)\n",
    "    ax_histy.tick_params(axis=\"y\", labelsize=36)\n",
    "    ax_histy.grid(alpha = 1,linewidth = 2)\n",
    "    ax_histx.grid(alpha = 1,linewidth = 2)\n",
    "\n",
    "fig = plt.figure(figsize=(20,20))\n",
    "gs = fig.add_gridspec(2, 2,  width_ratios=(4, 1), height_ratios=(1, 4),\n",
    "                      left=0.1, right=0.9, bottom=0.1, top=0.9,\n",
    "                      wspace=0.05, hspace=0.05)\n",
    "\n",
    "\n",
    "# Create the Axes.\n",
    "\n",
    "ax = fig.add_subplot(gs[1, 0])\n",
    "ax_histx = fig.add_subplot(gs[0, 0], sharex = ax)\n",
    "ax_histy = fig.add_subplot(gs[1, 1], sharey = ax)\n",
    "\n",
    "\n",
    "ax_histx.tick_params(axis=\"y\", labelsize=36)\n",
    "ax_histy.tick_params(axis=\"x\", labelsize=36)\n",
    "\n",
    "ax.tick_params(axis=\"both\", labelsize=36)\n",
    "\n",
    "\n",
    "print('Drawing scatter plot...')\n",
    "scatter_hist(\n",
    "    x, \n",
    "    y,\n",
    "    ax, \n",
    "    ax_histx,\n",
    "    ax_histy,\n",
    ")\n",
    "# plt.grid()\n",
    "print('Drawing done')\n",
    "print('Setting scales and labels...')\n",
    "ax.set_yscale('log')\n",
    "ax.set_xscale('log')\n",
    "ax.set_ylabel('This Study Volume (km$^3$)', fontsize = 36)\n",
    "ax.set_xlabel('Farinotti et al. Volume (km$^3$)', fontsize = 36)\n",
    "# major_ticks = [1e-5,1e0,1e1,1e4]\n",
    "# ax.set_xticks(major_ticks)\n",
    "# ax.set_yticks(major_ticks)\n",
    "ax.minorticks_on()\n",
    "\n",
    "ax.grid(which = 'major',alpha = 1,linewidth = 2)\n",
    "ax.grid(which = 'minor',alpha = 1,linewidth = 1,linestyle = '--')\n",
    "plt.text(5e-16, 300000, 'A.',fontsize = 42)\n",
    "plt.text(5e-16, 3500, 'C.',fontsize = 42)\n",
    "plt.text(10, 3500, 'B.',fontsize = 42)"
   ]
  }
 ],
 "metadata": {
  "kernelspec": {
   "display_name": "glacierml (Python3.8.10)",
   "language": "python",
   "name": "glacierml"
  },
  "language_info": {
   "codemirror_mode": {
    "name": "ipython",
    "version": 3
   },
   "file_extension": ".py",
   "mimetype": "text/x-python",
   "name": "python",
   "nbconvert_exporter": "python",
   "pygments_lexer": "ipython3",
   "version": "3.8.10"
  },
  "varInspector": {
   "cols": {
    "lenName": 16,
    "lenType": 16,
    "lenVar": 40
   },
   "kernels_config": {
    "python": {
     "delete_cmd_postfix": "",
     "delete_cmd_prefix": "del ",
     "library": "var_list.py",
     "varRefreshCmd": "print(var_dic_list())"
    },
    "r": {
     "delete_cmd_postfix": ") ",
     "delete_cmd_prefix": "rm(",
     "library": "var_list.r",
     "varRefreshCmd": "cat(var_dic_list()) "
    }
   },
   "types_to_exclude": [
    "module",
    "function",
    "builtin_function_or_method",
    "instance",
    "_Feature"
   ],
   "window_display": false
  }
 },
 "nbformat": 4,
 "nbformat_minor": 5
}
