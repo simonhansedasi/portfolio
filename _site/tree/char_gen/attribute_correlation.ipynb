{
 "cells": [
  {
   "cell_type": "code",
   "execution_count": null,
   "id": "862558a2-ada2-44af-8011-94d2be98b79d",
   "metadata": {
    "tags": []
   },
   "outputs": [],
   "source": [
    "import pickle\n",
    "# from collections import defaultdict\n",
    "import numpy as np\n",
    "import pandas as pd\n",
    "import scipy.stats as stats\n",
    "import matplotlib.pyplot as plt\n",
    "\n",
    "from tqdm import tqdm"
   ]
  },
  {
   "cell_type": "code",
   "execution_count": null,
   "id": "d1c6e9cd-c108-4384-9dfd-2f579a37476d",
   "metadata": {
    "tags": []
   },
   "outputs": [],
   "source": [
    "file_path = 'sim_results.pkl'\n",
    "\n",
    "with open(file_path, 'rb') as f:\n",
    "    results = pickle.load(f)"
   ]
  },
  {
   "cell_type": "code",
   "execution_count": null,
   "id": "2e1a74a8-80a9-4d3e-8f9c-25f42a75d0c8",
   "metadata": {
    "tags": []
   },
   "outputs": [],
   "source": [
    "attributes = ['STR','DEX','CON','INT','WIS','CHA']\n",
    "\n",
    "attribute_map = {\n",
    "    0: 'STR',\n",
    "    1: 'DEX',\n",
    "    2: 'CON',\n",
    "    3: 'INT',\n",
    "    4: 'WIS',\n",
    "    5: 'CHA'\n",
    "}\n",
    "\n",
    "attribute_scores = {}\n",
    "# Iterate through the 50 iterations (results) for the 10,000 characters\n",
    "for i in range(50):\n",
    "    # get all attribute arrays of the simulation\n",
    "    stat_arrays = results[i][8]\n",
    "    #initiate a list to hold all the dictionary stat arrays\n",
    "    attribute_scores[i] = []\n",
    "    for char_id, char_stats in stat_arrays.items():\n",
    "        attribute_scores[i].append(char_stats)"
   ]
  },
  {
   "cell_type": "code",
   "execution_count": null,
   "id": "7db2d14c-7de1-4037-a03f-2b8e9104b1df",
   "metadata": {
    "tags": []
   },
   "outputs": [],
   "source": [
    "correlations = {}\n",
    "# Iterate over 50 sets of results\n",
    "for i in tqdm(range(50)):\n",
    "    # Get the ith set of attribute dictionaries\n",
    "    data = attribute_scores[i]  \n",
    "    # Initiate a dictionary to hold six empty lists\n",
    "    atts = {j: [] for j in range(6)} \n",
    "    \n",
    "    # extract all attributes to individual lists\n",
    "    for d in data:\n",
    "        for j in range(6):\n",
    "            atts[j].append(d[j])  \n",
    "    \n",
    "    # initiate \n",
    "    if i not in correlations:\n",
    "        correlations[i] = {}\n",
    "    \n",
    "    for j in range(6):\n",
    "        for k in range(6):\n",
    "            correlations[i][j, k] = np.corrcoef(atts[j], atts[k])[0, 1]"
   ]
  },
  {
   "cell_type": "code",
   "execution_count": null,
   "id": "9b52db10-d963-4b6e-a548-549fda77dbc3",
   "metadata": {
    "tags": []
   },
   "outputs": [],
   "source": [
    "# Function to calculate Fisher Z-transformation\n",
    "def fisher_z(correlation):\n",
    "    return 0.5 * np.log((1 + correlation) / (1 - correlation))\n",
    "\n",
    "# Function to inverse Fisher Z-transformation\n",
    "def inverse_fisher_z(z):\n",
    "    return (np.exp(2 * z) - 1) / (np.exp(2 * z) + 1)\n",
    "\n",
    "# Function to calculate 95% confidence intervals for each correlation coefficient\n",
    "def calculate_ci(correlation_values, alpha=0.05):\n",
    "    n = len(correlation_values)  # Number of samples (50 in your case)\n",
    "    \n",
    "    # Apply Fisher Z-transformation to the correlation values\n",
    "    z_values = np.array([fisher_z(r) for r in correlation_values])\n",
    "    \n",
    "    # Calculate the mean and standard error of the Z values\n",
    "    z_mean = np.mean(z_values)\n",
    "    z_se = np.std(z_values, ddof=1) / np.sqrt(n)\n",
    "    \n",
    "    # Calculate the confidence interval in the Z space\n",
    "    z_ci_lower = z_mean - 1.96 * z_se\n",
    "    z_ci_upper = z_mean + 1.96 * z_se\n",
    "    \n",
    "    # Inverse Fisher Z-transformation to get the CI in the correlation space\n",
    "    r_ci_lower = inverse_fisher_z(z_ci_lower)\n",
    "    r_ci_upper = inverse_fisher_z(z_ci_upper)\n",
    "    \n",
    "    return r_ci_lower, r_ci_upper\n",
    "\n",
    "# Initialize the dictionary with your 50 correlation matrices (assuming 'correlations' is the dictionary with your 50 matrices)\n",
    "confidence_intervals = np.zeros((6, 6, 2))  # 6x6 matrix with 2 columns (lower and upper bounds)\n",
    "\n",
    "# Iterate over each pair of attributes (j, k)\n",
    "for j in range(6):  # Loop through the rows (attributes)\n",
    "    for k in range(6):  # Loop through the columns (attributes)\n",
    "        # Collect the correlation values for this pair across all 50 datasets\n",
    "        correlation_values = [correlations[i].get((j, k), np.nan) for i in range(50)]\n",
    "        \n",
    "        # Remove NaN values (in case there were any missing correlations)\n",
    "        correlation_values = [r for r in correlation_values if not np.isnan(r)]\n",
    "        \n",
    "        # Calculate the CI for this pair of attributes\n",
    "        ci_lower, ci_upper = calculate_ci(correlation_values)\n",
    "        \n",
    "        # Store the CI in the matrix (lower and upper bounds)\n",
    "        confidence_intervals[j, k, 0] = ci_lower  # Lower bound\n",
    "        confidence_intervals[j, k, 1] = ci_upper"
   ]
  },
  {
   "cell_type": "code",
   "execution_count": null,
   "id": "7469e9b1-88ae-4ee4-ba15-688bf751b1f0",
   "metadata": {
    "tags": []
   },
   "outputs": [],
   "source": [
    "import numpy as np\n",
    "import matplotlib.pyplot as plt\n",
    "\n",
    "# Define the attribute labels\n",
    "attribute_labels = ['STR', 'DEX', 'CON', 'INT', 'WIS', 'CHA']\n",
    "\n",
    "# Assuming confidence_intervals is your 6x6 array containing the CI lower and upper bounds\n",
    "# You will take the average of the lower and upper bounds to represent the final correlation value\n",
    "\n",
    "# Calculate the average correlation value for each pair (j, k)\n",
    "average_correlation_matrix = np.zeros((6, 6))\n",
    "\n",
    "for j in range(6):\n",
    "    for k in range(6):\n",
    "        lower_bound = confidence_intervals[j, k, 0]\n",
    "        upper_bound = confidence_intervals[j, k, 1]\n",
    "        \n",
    "        average_correlation_matrix[j, k] = (lower_bound + upper_bound) / 2\n",
    "np.fill_diagonal(average_correlation_matrix, 1)\n",
    "\n",
    "\n",
    "fig, ax = plt.subplots(figsize = (8,6))\n",
    "# plt.figure(figsize=(8, 6))\n",
    "cax = plt.imshow(\n",
    "    average_correlation_matrix,\n",
    "    cmap='coolwarm',\n",
    "    interpolation='nearest',\n",
    "    vmin = -1, vmax = 1\n",
    ")\n",
    "cbar = fig.colorbar(cax)\n",
    "\n",
    "cbar.ax.tick_params(labelsize = 14) \n",
    "cbar.set_label('Correlation Coefficient',fontsize = 19)\n",
    "# Add colorbar to the side\n",
    "# plt.colorbar(cax, label='Correlation Coefficient')\n",
    "\n",
    "\n",
    "# Set ticks and labels\n",
    "plt.xticks(np.arange(6), attribute_labels, fontsize = 14)\n",
    "plt.yticks(np.arange(6), attribute_labels, fontsize = 14)\n",
    "\n",
    "# Add labels and title\n",
    "plt.title('Attribute Correlation Matrix', fontsize = 22)\n",
    "plt.xlabel('Attributes', fontsize = 19)\n",
    "plt.ylabel('Attributes', fontsize = 19)\n",
    "\n",
    "for i in range(6):\n",
    "    for j in range(6):\n",
    "        plt.text(j, i,\n",
    "                 f'{average_correlation_matrix[i, j]:.2f}',\n",
    "                 ha = 'center', va = 'center', \n",
    "                 color = 'black' if average_correlation_matrix[i, j] < 0.5 else 'white',\n",
    "                 fontsize = '14'\n",
    "                )\n",
    "\n",
    "# Show the plot\n",
    "plt.tight_layout()\n",
    "plt.savefig('figs/attribute_correlation.png')\n",
    "plt.show()\n"
   ]
  },
  {
   "cell_type": "code",
   "execution_count": null,
   "id": "991dbc15-9d1b-4c53-b9dc-1edcb99d0b55",
   "metadata": {
    "tags": []
   },
   "outputs": [],
   "source": [
    "average_correlation_matrix"
   ]
  }
 ],
 "metadata": {
  "kernelspec": {
   "display_name": "Python 3 (ipykernel)",
   "language": "python",
   "name": "python3"
  },
  "language_info": {
   "codemirror_mode": {
    "name": "ipython",
    "version": 3
   },
   "file_extension": ".py",
   "mimetype": "text/x-python",
   "name": "python",
   "nbconvert_exporter": "python",
   "pygments_lexer": "ipython3",
   "version": "3.7.6"
  }
 },
 "nbformat": 4,
 "nbformat_minor": 5
}
