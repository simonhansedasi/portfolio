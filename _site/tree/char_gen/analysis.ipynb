{
 "cells": [
  {
   "cell_type": "code",
   "execution_count": null,
   "id": "771856bf-e6fd-4fc1-ba5d-48bb8131ee6d",
   "metadata": {
    "tags": []
   },
   "outputs": [],
   "source": [
    "import pickle\n",
    "import numpy as np\n",
    "import matplotlib.pyplot as plt\n",
    "import pandas as pd\n",
    "import scipy.stats as stats\n",
    "\n",
    "num_iterations = 10000\n",
    "num_simulations = 50"
   ]
  },
  {
   "cell_type": "code",
   "execution_count": null,
   "id": "77f4dd24-36c2-4b02-8297-132d5eeffd36",
   "metadata": {
    "tags": []
   },
   "outputs": [],
   "source": [
    "file_path = 'sim_results.pkl'\n",
    "with open(file_path, 'rb') as f:\n",
    "    results = pickle.load(f)"
   ]
  },
  {
   "cell_type": "code",
   "execution_count": null,
   "id": "c4d4c91b-d810-40a6-ad9b-22a8750d394c",
   "metadata": {},
   "outputs": [],
   "source": [
    "### Define functions to parse results for analysis ###\n",
    "\n",
    "def get_species_class_combo_counts(results):\n",
    "    species_class_combo_counts = {}\n",
    "    for i in range(num_simulations):\n",
    "        for species in results[i][5]:\n",
    "            for classe, count in results[i][5][species].items():\n",
    "\n",
    "                if (species, classe) not in species_class_combo_counts:\n",
    "                    species_class_combo_counts[(species, classe)] = []\n",
    "                    species_class_combo_counts[(species, classe)].append(count)\n",
    "                elif (species, classe) in species_class_combo_counts:\n",
    "                    species_class_combo_counts[(species, classe)].append(count) \n",
    "                    \n",
    "    return species_class_combo_counts\n",
    "\n",
    "def get_species_background_combo_counts(results):\n",
    "    species_background_combo_counts = {}\n",
    "    for i in range(num_simulations):\n",
    "        for species in results[i][6]:\n",
    "            for background, count in results[i][6][species].items():\n",
    "\n",
    "                if (species, background) not in species_background_combo_counts:\n",
    "                    species_background_combo_counts[(species, background)] = []\n",
    "                    species_background_combo_counts[(species, background)].append(count)\n",
    "                elif (species, background) in species_background_combo_counts:\n",
    "                    species_background_combo_counts[(species, background)].append(count) \n",
    "                    \n",
    "    return species_background_combo_counts\n",
    "\n",
    "def get_class_backgroud_combo_counts(results):\n",
    "    class_background_combo_counts = {}\n",
    "    for i in range(num_simulations):\n",
    "        for classe in results[i][7]:\n",
    "            for background, count in results[i][7][classe].items():\n",
    "\n",
    "                if (classe, background) not in class_background_combo_counts:\n",
    "                    class_background_combo_counts[(classe, background)] = []\n",
    "                    class_background_combo_counts[(classe, background)].append(count)\n",
    "                elif (classe, background) in species_class_combo_counts:\n",
    "                    class_background_combo_counts[(classe, background)].append(count) \n",
    "                    \n",
    "    return class_background_combo_counts\n",
    "\n",
    "def get_counts(j):\n",
    "    new_dict = {}\n",
    "    for i in range(num_simulations):\n",
    "        for item in results[i][j].items():\n",
    "            if item[0] not in new_dict:\n",
    "                new_dict[item[0]] = []\n",
    "                new_dict[item[0]].append(item[1])\n",
    "            elif item[0] in new_dict:\n",
    "                new_dict[item[0]].append(item[1])\n",
    "                \n",
    "    return new_dict"
   ]
  },
  {
   "cell_type": "code",
   "execution_count": null,
   "id": "a425b779-b4e0-4345-8a46-7c9feb62d0b5",
   "metadata": {
    "tags": []
   },
   "outputs": [],
   "source": [
    "species_selection_counts = get_counts(0)\n",
    "class_selection_counts = get_counts(1)\n",
    "background_selection_counts = get_counts(2)\n",
    "alignment_selection_counts = get_counts(3)\n",
    "dead_farmer_counts = get_counts(4)\n",
    "species_class_combo_counts = get_species_class_combo_counts(results)\n",
    "species_background_combo_counts = get_species_background_combo_counts(results)\n",
    "class_background_combo_counts = get_class_backgroud_combo_counts(results)"
   ]
  },
  {
   "cell_type": "code",
   "execution_count": null,
   "id": "6d1e380c-9bd6-42f4-82ea-e33dc5833066",
   "metadata": {
    "tags": []
   },
   "outputs": [],
   "source": [
    "def calculate_parameters(dictionary):\n",
    "    means = {}\n",
    "    variances = {}\n",
    "    for key, value in dictionary.items():\n",
    "\n",
    "        means[key] = np.mean(value)\n",
    "        variances[key] = np.var(value)\n",
    "        \n",
    "    return means, variances\n",
    "\n",
    "\n",
    "\n",
    "species_means, species_variances = calculate_parameters(species_selection_counts)\n",
    "class_means, class_variances = calculate_parameters(class_selection_counts)\n",
    "background_means, background_variances = calculate_parameters(background_selection_counts)\n",
    "alignment_means, alignment_variances = calculate_parameters(alignment_selection_counts)\n",
    "dead_farmer_means, dead_farmer_variances = calculate_parameters(dead_farmer_counts)\n",
    "species_class_combo_means, species_class_combo_variances = calculate_parameters(species_class_combo_counts)\n",
    "species_background_combo_means, species_background_combo_variances = calculate_parameters(species_background_combo_counts)\n",
    "class_background_combo_means, class_background_combo_variances = calculate_parameters(class_background_combo_counts)"
   ]
  },
  {
   "cell_type": "code",
   "execution_count": null,
   "id": "2f6dc5fc-c56f-4a8f-972c-2cbacf88c401",
   "metadata": {
    "tags": []
   },
   "outputs": [],
   "source": [
    "def calculate_CI(means, variances):\n",
    "    CI_lower = {}\n",
    "    CI_upper = {}\n",
    "    CI = {}\n",
    "    for key in means:\n",
    "        CI[key] = (\n",
    "            np.round(means[key] - (1.96 * (np.sqrt(variances[key]) / np.sqrt(num_simulations))), 2), \n",
    "            np.round(means[key] + (1.96 * (np.sqrt(variances[key]) / np.sqrt(num_simulations))), 2)\n",
    "        )\n",
    "    return CI"
   ]
  },
  {
   "cell_type": "code",
   "execution_count": null,
   "id": "39188b9e-2fad-4175-b138-1218647ef362",
   "metadata": {
    "tags": []
   },
   "outputs": [],
   "source": [
    "species_CI = calculate_CI(species_means, species_variances)\n",
    "class_CI = calculate_CI(class_means, class_variances)\n",
    "background_CI = calculate_CI(background_means, background_variances)\n",
    "alignment_CI = calculate_CI(alignment_means, alignment_variances)\n",
    "dead_farmer_CI = calculate_CI(dead_farmer_means, dead_farmer_variances)\n",
    "species_class_CI = calculate_CI(species_class_combo_means, species_class_combo_variances)\n",
    "species_background_CI = calculate_CI(species_background_combo_means, species_background_combo_variances)\n",
    "class_background_CI = calculate_CI(class_background_combo_means, class_background_combo_variances)"
   ]
  },
  {
   "cell_type": "code",
   "execution_count": null,
   "id": "82914bfd-264f-4834-8a82-00b8a35ae646",
   "metadata": {
    "tags": []
   },
   "outputs": [],
   "source": [
    "def plot_results(\n",
    "    CI_dictionary, \n",
    "    x,\n",
    "    y,\n",
    "    filename\n",
    "):\n",
    "    sorted_data = sorted(CI_dictionary.items(), key=lambda x: (x[1][0] + x[1][1]) / 2, reverse=True)\n",
    "    species = [item[0] for item in sorted_data]\n",
    "    means = [(lower + upper) / 2 for lower, upper in [item[1] for item in sorted_data]]\n",
    "    ci_widths = [(upper - lower) / 2 for lower, upper in [item[1] for item in sorted_data]]\n",
    "\n",
    "    plt.figure(figsize=(10, 6))\n",
    "    bars = plt.bar(species, means, yerr = ci_widths, capsize = 10)\n",
    "\n",
    "    plt.xticks(rotation=45, ha='right', fontsize=12)\n",
    "    plt.yticks(fontsize =12)\n",
    "    plt.xlabel(x, fontsize=14)\n",
    "    plt.ylabel(y, fontsize=14)\n",
    "    plt.grid(axis='y', linestyle='--', alpha=0.7)\n",
    "    plt.tight_layout()\n",
    "    plt.savefig(filename)\n",
    "    plt.show()\n",
    "    \n",
    "def print_latex_table(\n",
    "\n",
    "    CI_dictionary,\n",
    "    x,\n",
    "    pop = 10000,\n",
    "):\n",
    "\n",
    "    data = []\n",
    "\n",
    "    for key, (lower, upper) in CI_dictionary.items():\n",
    "\n",
    "        mean_value = np.round((lower + upper) / 2, 0)\n",
    "        ci_width = np.round((upper - lower) / 2, 0)\n",
    "        mean_percentage = np.round((mean_value / pop) * 100, 2)\n",
    "        ci_percentage = np.round((ci_width / pop) * 100, 2)\n",
    "\n",
    "        formatted_value = f'{mean_value:.0f} ± {ci_width:.0f}'\n",
    "        formatted_percentage = f'{mean_percentage:.2f} ± {ci_percentage:.2f}%'\n",
    "\n",
    "        data.append((key, formatted_value, formatted_percentage, mean_value))\n",
    "\n",
    "    df = pd.DataFrame(data, columns=[x, 'Mean Count', 'Percentage of Population', 'Mean Value'])\n",
    "    df = df.sort_values(by='Mean Value', ascending=False)\n",
    "\n",
    "    df = df.drop(columns=['Mean Value'])\n",
    "\n",
    "    latex_table = df.to_latex(index=False, column_format='l r r', caption='Mean Counts and Population Percentages of Adventurers')\n",
    "    latex_table = latex_table.replace(r'{r}', '{l@{\\hspace{0.3em}}r}')  \n",
    "\n",
    "    print(latex_table)"
   ]
  },
  {
   "cell_type": "code",
   "execution_count": null,
   "id": "c8d6808d-24e4-489b-a6e0-3b56cd3a3111",
   "metadata": {
    "tags": []
   },
   "outputs": [],
   "source": [
    "plot_results(species_CI, x = 'Species', y = 'Mean Frequency', filename = 'figs/results_species.png')\n",
    "plot_results(class_CI, x = 'Class', y = 'Mean Frequency', filename = 'figs/results_class.png')\n",
    "plot_results(background_CI, x = 'Background', y = 'Mean Frequency', filename = 'figs/results_background.png')\n",
    "plot_results(alignment_CI, x = 'Alignment', y = 'Mean Frequency', filename = 'figs/results_alignment.png')\n",
    "\n",
    "\n",
    "\n",
    "\n",
    "print_latex_table(species_CI, 'Species')\n",
    "print_latex_table(class_CI, 'Class')\n",
    "print_latex_table(background_CI, 'Background')\n",
    "print_latex_table(alignment_CI, 'Alignment')"
   ]
  },
  {
   "cell_type": "code",
   "execution_count": null,
   "id": "59cb4400-3d60-4241-be34-4b7745628078",
   "metadata": {
    "tags": []
   },
   "outputs": [],
   "source": [
    "def build_combination_df(\n",
    "    CI_dictionary, x, y\n",
    "):\n",
    "    \n",
    "    id1 = []    # x\n",
    "    id2 = []    # y\n",
    "    id3 = []    # mean of CI\n",
    "    id4 = []    # CI width\n",
    "    \n",
    "    for (i, j), (k, l) in CI_dictionary.items():\n",
    "        id1.append(i)\n",
    "        id2.append(j)\n",
    "        id3.append((k + l) / 2)\n",
    "        id4.append(l - k)\n",
    "        \n",
    "    df = pd.DataFrame({\n",
    "        x: id1,\n",
    "        y: id2,\n",
    "        'Mean': id3,\n",
    "        'CI': id4\n",
    "    })\n",
    "    return df"
   ]
  },
  {
   "cell_type": "code",
   "execution_count": null,
   "id": "7e0928aa-db21-4449-8c96-9db0d007688b",
   "metadata": {
    "tags": []
   },
   "outputs": [],
   "source": [
    "species_class_df = build_combination_df(species_class_CI, x = 'Species', y = 'Class')\n",
    "\n",
    "species_background_df = build_combination_df(species_background_CI, x = 'Species', y = 'Background')\n",
    "\n",
    "class_background_df = build_combination_df(class_background_CI, x = 'Class', y = 'Background')"
   ]
  },
  {
   "cell_type": "code",
   "execution_count": null,
   "id": "6d0a7a76-ee68-46b6-a169-2fd4309431bc",
   "metadata": {
    "tags": []
   },
   "outputs": [],
   "source": [
    "species_class_df"
   ]
  },
  {
   "cell_type": "code",
   "execution_count": null,
   "id": "884e873b-6fff-441d-871c-819b036b7a3d",
   "metadata": {
    "tags": []
   },
   "outputs": [],
   "source": [
    "def run_chi_sq(df, x, y):\n",
    "    contingency_table = df.pivot(index=y, columns=x, values='Mean').fillna(0)\n",
    "    X_order = contingency_table.sum(axis=1).sort_values(ascending=False).index\n",
    "    Y_order = contingency_table.sum(axis=0).sort_values(ascending=False).index\n",
    "    contingency_table_sorted = contingency_table.loc[X_order, Y_order]\n",
    "    chi2, p, dof, expected = stats.chi2_contingency(contingency_table_sorted)\n",
    "    print(f\"Chi-squared: {chi2}\")\n",
    "    print(f\"P-value: {p}\")\n",
    "    print(f\"Degrees of freedom: {dof}\")\n",
    "    print(f\"Expected frequencies:\\n{expected}\")\n",
    "    observed = contingency_table_sorted.values\n",
    "    residuals = (observed - expected) / np.sqrt(expected)\n",
    "    residuals_df = pd.DataFrame(residuals, index=contingency_table_sorted.index, columns=contingency_table_sorted.columns)\n",
    "    significant_residuals = residuals_df[(residuals_df > 2) | (residuals_df < -2)]\n",
    "    significant_residuals = np.round(significant_residuals, 0)\n",
    "    \n",
    "    return contingency_table_sorted, significant_residuals"
   ]
  },
  {
   "cell_type": "code",
   "execution_count": null,
   "id": "6b99cf7a-e45b-4291-ab27-b2b923d85337",
   "metadata": {
    "tags": []
   },
   "outputs": [],
   "source": [
    "def plot_contingency_table(df, x, y, filename):\n",
    "    fig, ax = plt.subplots(figsize=(12, 10))\n",
    "\n",
    "    cax = ax.imshow(contingency_table_sorted, cmap='coolwarm', vmin=0, vmax=np.max(contingency_table_sorted.values))\n",
    "\n",
    "    cbar = fig.colorbar(cax, shrink=0.75)\n",
    "\n",
    "    for label in cbar.ax.get_yticklabels():\n",
    "        label.set_fontsize(14)\n",
    "\n",
    "    plt.xticks(np.arange(len(contingency_table_sorted.columns)), contingency_table_sorted.columns, rotation=45, ha='right', fontsize=14)\n",
    "    plt.yticks(np.arange(len(contingency_table_sorted.index)), contingency_table_sorted.index, fontsize=14)\n",
    "\n",
    "    plt.title('Adventurer Demographics', fontsize=20)\n",
    "    plt.ylabel(y, fontsize=17)\n",
    "    plt.xlabel(x, fontsize=17)\n",
    "\n",
    "    for i in range(len(contingency_table_sorted.index)):\n",
    "        for j in range(len(contingency_table_sorted.columns)):\n",
    "            value = contingency_table_sorted.iloc[i, j]\n",
    "            ax.text(j, i, f'{value:.0f}', ha='center', va='center', color='black')\n",
    "\n",
    "    plt.tight_layout()\n",
    "    plt.savefig(filename)\n",
    "    plt.show()\n",
    "    \n",
    "    \n",
    "def plot_significant_residuals(df, x, y, filename):\n",
    "\n",
    "    fig, ax = plt.subplots(figsize=(12, 10))\n",
    "    cax = ax.imshow(significant_residuals, cmap='coolwarm', vmin=-5, vmax=5)\n",
    "    cbar = fig.colorbar(cax, ax=ax, orientation='vertical', shrink = 0.75)\n",
    "    cbar.set_ticks([-5,0, 5])  \n",
    "    cbar.set_ticklabels(['Very Few', 'Common', 'A Lot'])  # Set custom labels\n",
    "    for label in cbar.ax.get_yticklabels():\n",
    "        label.set_fontsize(14)  \n",
    "    plt.xticks(np.arange(len(significant_residuals.columns)), labels = significant_residuals.columns, fontsize = 14)\n",
    "    plt.yticks(np.arange(len(significant_residuals.index)), labels = significant_residuals.index, fontsize = 14)\n",
    "    plt.ylabel(y, fontsize = 17)\n",
    "    plt.xlabel(x, fontsize = 17)\n",
    "    ax.set_title('Adventurer Demographics Significance', fontsize = 20)\n",
    "\n",
    "    plt.xticks(rotation=45, ha='right')\n",
    "    plt.tight_layout()\n",
    "    plt.savefig(filename)\n",
    "    plt.show()\n",
    "\n"
   ]
  },
  {
   "cell_type": "code",
   "execution_count": null,
   "id": "c8ba7502-e116-427b-a016-48cb5893b9dc",
   "metadata": {
    "tags": []
   },
   "outputs": [],
   "source": [
    "contingency_table_sorted, significant_residuals = run_chi_sq(species_class_df, x = 'Species', y = 'Class')\n",
    "plot_contingency_table(contingency_table_sorted, x = 'Species', y = 'Class', filename = 'combo_species_class.png')\n",
    "plot_significant_residuals(significant_residuals, x = 'Species', y = 'Class', filename = 'chisq_resid_species_class.png')\n",
    "\n",
    "\n",
    "contingency_table_sorted, significant_residuals = run_chi_sq(species_background_df, x = 'Species', y = 'Background')\n",
    "plot_contingency_table(contingency_table_sorted, x = 'Species', y = 'Background', filename = 'combo_species_background.png')\n",
    "plot_significant_residuals(significant_residuals, x = 'Species', y = 'Background', filename = 'chisq_resid_species_background.png')\n",
    "\n",
    "\n",
    "contingency_table_sorted, significant_residuals = run_chi_sq(class_background_df, x = 'Class', y = 'Background')\n",
    "plot_contingency_table(contingency_table_sorted, x = 'Class', y = 'Background', filename = 'combo_class_background.png')\n",
    "plot_significant_residuals(significant_residuals, x = 'Class', y = 'Background', filename = 'chisq_resid_class_background.png')"
   ]
  },
  {
   "cell_type": "code",
   "execution_count": null,
   "id": "e645000e-1304-407d-b999-2e82c4c5df17",
   "metadata": {},
   "outputs": [],
   "source": []
  }
 ],
 "metadata": {
  "kernelspec": {
   "display_name": "Python 3 (ipykernel)",
   "language": "python",
   "name": "python3"
  },
  "language_info": {
   "codemirror_mode": {
    "name": "ipython",
    "version": 3
   },
   "file_extension": ".py",
   "mimetype": "text/x-python",
   "name": "python",
   "nbconvert_exporter": "python",
   "pygments_lexer": "ipython3",
   "version": "3.7.6"
  }
 },
 "nbformat": 4,
 "nbformat_minor": 5
}
