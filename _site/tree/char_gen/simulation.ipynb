{
 "cells": [
  {
   "cell_type": "code",
   "execution_count": 1,
   "id": "b18363b0-61bd-4328-ab8d-e0b1bf440c20",
   "metadata": {
    "tags": []
   },
   "outputs": [],
   "source": [
    "import gen as g\n",
    "from tqdm import tqdm\n",
    "import pickle\n",
    "import os"
   ]
  },
  {
   "cell_type": "code",
   "execution_count": 2,
   "id": "3ead4f18-9feb-410f-88f6-4544c68b2d7c",
   "metadata": {
    "tags": []
   },
   "outputs": [],
   "source": [
    "# base function to run the character generation logic.\n",
    "\n",
    "def generate():\n",
    "    dead_farmers = 0\n",
    "        \n",
    "    recommended_species = None\n",
    "    \n",
    "    chosen_class = None\n",
    "    \n",
    "    background = None\n",
    "\n",
    "    while not (recommended_species and chosen_class and background):\n",
    "        stats, attempts = g.roll_stats()\n",
    "        dead_farmers += attempts\n",
    "        recommended_species = g.recommend_species(stats)  \n",
    "        updated_stats = g.apply_species_bonus(stats, recommended_species)\n",
    "        optimal_stats = g.sort_stats(updated_stats)    \n",
    "        chosen_class = g.select_class(optimal_stats)    \n",
    "        background = g.pick_background(optimal_stats)\n",
    "    alignment = g.determine_alignment(dead_farmers)\n",
    "\n",
    "    return stats, recommended_species, chosen_class, background, alignment, dead_farmers\n",
    "    "
   ]
  },
  {
   "cell_type": "code",
   "execution_count": 3,
   "id": "3cbd9121-eea6-48cd-b1ed-65087f65c7a3",
   "metadata": {
    "tags": []
   },
   "outputs": [],
   "source": [
    "# Run the generate function a bunch of times and keep track of selections to get a distribution.\n",
    "\n",
    "def track_species_selection(num_iterations):\n",
    "    \n",
    "    species_count = {}\n",
    "    classes_count = {}\n",
    "    background_count = {}\n",
    "    alignment_count = {}\n",
    "    dead_farmers_count = {}\n",
    "    species_class_count = {}\n",
    "    species_background_count = {}\n",
    "    class_background_count = {}\n",
    "    stats_dict = {}\n",
    "    for _ in (range(num_iterations)):\n",
    "        stats, species, chosen_class, chosen_background, alignment, dead_farmers = generate()\n",
    "        \n",
    "        if species in species_count:\n",
    "            species_count[species] += 1\n",
    "        else:\n",
    "            species_count[species] = 1\n",
    "            \n",
    "        if chosen_class in classes_count:\n",
    "            classes_count[chosen_class] += 1\n",
    "        else:\n",
    "            classes_count[chosen_class] = 1\n",
    "            \n",
    "        if chosen_background in background_count:\n",
    "            background_count[chosen_background] += 1\n",
    "        else:\n",
    "            background_count[chosen_background] = 1\n",
    "            \n",
    "        if alignment in alignment_count:\n",
    "            alignment_count[alignment] += 1\n",
    "        else:\n",
    "            alignment_count[alignment] = 1\n",
    "            \n",
    "            \n",
    "        if dead_farmers in dead_farmers_count:\n",
    "            dead_farmers_count[dead_farmers] += 1\n",
    "        else:\n",
    "            dead_farmers_count[dead_farmers] = 1            \n",
    "            \n",
    "        if species not in species_class_count:\n",
    "            species_class_count[species] = {}\n",
    "\n",
    "        if chosen_class in species_class_count[species]:\n",
    "            species_class_count[species][chosen_class] += 1\n",
    "        else:\n",
    "            species_class_count[species][chosen_class] = 1\n",
    "            \n",
    "        \n",
    "        \n",
    "        if species not in species_background_count:\n",
    "            species_background_count[species] = {}\n",
    "\n",
    "        if chosen_background in species_background_count[species]:\n",
    "            species_background_count[species][chosen_background] += 1\n",
    "        else:\n",
    "            species_background_count[species][chosen_background] = 1\n",
    "            \n",
    "            \n",
    "        if chosen_class not in class_background_count:\n",
    "            class_background_count[chosen_class] = {}\n",
    "\n",
    "        if chosen_background in class_background_count[chosen_class]:\n",
    "            class_background_count[chosen_class][chosen_background] += 1\n",
    "        else:\n",
    "            class_background_count[chosen_class][chosen_background] = 1\n",
    "            \n",
    "        stats_dict[_] = stats\n",
    "\n",
    "    return (\n",
    "        species_count, classes_count, background_count, \n",
    "        alignment_count, dead_farmers_count, species_class_count, \n",
    "        species_background_count, class_background_count, stats_dict\n",
    "    )"
   ]
  },
  {
   "cell_type": "code",
   "execution_count": 4,
   "id": "0e43efd6-4e29-4baf-a595-3acf271806b8",
   "metadata": {
    "tags": []
   },
   "outputs": [],
   "source": [
    "# Run the simulation at least 30 times to obtain enough data to calculate confidence intervals\n",
    "\n",
    "def run_simulation(num_simulations, num_iterations):\n",
    "    result = []\n",
    "    for _ in tqdm(range(num_simulations)):\n",
    "        results = (track_species_selection(num_iterations))\n",
    "        result.append(results)\n",
    "    return result"
   ]
  },
  {
   "cell_type": "code",
   "execution_count": 5,
   "id": "4c0a34be-ccc8-4419-ab37-2470a5bd71fb",
   "metadata": {
    "tags": []
   },
   "outputs": [],
   "source": [
    "num_iterations = 10000\n",
    "num_simulations = 50"
   ]
  },
  {
   "cell_type": "code",
   "execution_count": 6,
   "id": "33d4567c-1c4b-4b2e-a444-80151c51c599",
   "metadata": {
    "tags": []
   },
   "outputs": [
    {
     "name": "stderr",
     "output_type": "stream",
     "text": [
      "100%|████████████████████████████████████████| 50/50 [1:34:53<00:00, 113.88s/it]\n"
     ]
    },
    {
     "name": "stdout",
     "output_type": "stream",
     "text": [
      "simulation done\n"
     ]
    }
   ],
   "source": [
    "## Run the simulation and save the results as a pickle\n",
    "\n",
    "file_path = \"sim_results.pkl\"\n",
    "\n",
    "# Check if the file exists\n",
    "if not os.path.exists(file_path):\n",
    "    results = run_simulation(num_simulations, num_iterations)\n",
    "    with open(file_path, 'wb') as f:\n",
    "        pickle.dump(results, f)\n",
    "    print('simulation done')\n",
    "\n",
    "else:\n",
    "    print('already done')\n",
    "    with open(file_path, 'rb') as f:\n",
    "        results = pickle.load(f)\n"
   ]
  }
 ],
 "metadata": {
  "kernelspec": {
   "display_name": "Python 3 (ipykernel)",
   "language": "python",
   "name": "python3"
  },
  "language_info": {
   "codemirror_mode": {
    "name": "ipython",
    "version": 3
   },
   "file_extension": ".py",
   "mimetype": "text/x-python",
   "name": "python",
   "nbconvert_exporter": "python",
   "pygments_lexer": "ipython3",
   "version": "3.7.6"
  }
 },
 "nbformat": 4,
 "nbformat_minor": 5
}
